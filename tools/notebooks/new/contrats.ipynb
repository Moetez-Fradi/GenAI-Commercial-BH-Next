{
 "cells": [
  {
   "cell_type": "code",
   "execution_count": 1,
   "id": "c45a184e",
   "metadata": {},
   "outputs": [],
   "source": [
    "import pandas as pd"
   ]
  },
  {
   "cell_type": "code",
   "execution_count": 2,
   "id": "1ea48cb2",
   "metadata": {},
   "outputs": [],
   "source": [
    "df = pd.read_excel('../../data/Donn_es_Assurance_S2.1.xlsx',sheet_name='Contrats')"
   ]
  },
  {
   "cell_type": "markdown",
   "id": "bbdb8f06",
   "metadata": {},
   "source": [
    "Initial exploration"
   ]
  },
  {
   "cell_type": "code",
   "execution_count": 5,
   "id": "d37cfbe6",
   "metadata": {},
   "outputs": [
    {
     "name": "stdout",
     "output_type": "stream",
     "text": [
      "Dataset shape: (92981, 11)\n",
      "\n",
      "Column Names: ['REF_PERSONNE', 'NUM_CONTRAT', 'LIB_PRODUIT', 'EFFET_CONTRAT', 'DATE_EXPIRATION', 'PROCHAIN_TERME', 'LIB_ETAT_CONTRAT', 'branche', 'somme_quittances', 'statut_paiement', 'Capital_assure']\n",
      "\n",
      "Data Types:\n",
      " REF_PERSONNE          int64\n",
      "NUM_CONTRAT           int64\n",
      "LIB_PRODUIT          object\n",
      "EFFET_CONTRAT        object\n",
      "DATE_EXPIRATION      object\n",
      "PROCHAIN_TERME       object\n",
      "LIB_ETAT_CONTRAT     object\n",
      "branche              object\n",
      "somme_quittances    float64\n",
      "statut_paiement      object\n",
      "Capital_assure      float64\n",
      "dtype: object\n",
      "\n",
      "First 5 rows:\n",
      "    REF_PERSONNE    NUM_CONTRAT  \\\n",
      "0        122335  1996101000186   \n",
      "1        115271  1996103000612   \n",
      "2        115197  1996102000382   \n",
      "3        122355  1996101000747   \n",
      "4        115302  1996103001078   \n",
      "\n",
      "                                         LIB_PRODUIT            EFFET_CONTRAT  \\\n",
      "0  TEMPORAIRE DECES A CAPITAL DECROISSANT LINEAIR...  1996-06-06 00:00:00.000   \n",
      "1   ASSURANCE VIE COMPLEMENT RETRAITE - HORIZON (AS)  1996-09-16 00:00:00.000   \n",
      "2                           MIXTE REVALORISABLE (AS)  1996-09-03 00:00:00.000   \n",
      "3  TEMPORAIRE DECES A CAPITAL DECROISSANT LINEAIR...  1996-10-11 00:00:00.000   \n",
      "4   ASSURANCE VIE COMPLEMENT RETRAITE - HORIZON (AS)  1996-10-15 00:00:00.000   \n",
      "\n",
      "           DATE_EXPIRATION PROCHAIN_TERME LIB_ETAT_CONTRAT branche  \\\n",
      "0  2017-06-05 00:00:00.000            NaN           EXPIRE     VIE   \n",
      "1  2024-09-15 00:00:00.000            NaN           EXPIRE     VIE   \n",
      "2  2025-09-03 00:00:00.000            NaN          RESILIE     VIE   \n",
      "3  2017-10-10 00:00:00.000            NaN           EXPIRE     VIE   \n",
      "4  2030-10-14 00:00:00.000            NaN         EN COURS     VIE   \n",
      "\n",
      "   somme_quittances statut_paiement  Capital_assure  \n",
      "0             630.0        Non payé       10000.000  \n",
      "1            8568.0            Payé        4038.000  \n",
      "2              30.9            Payé        4810.969  \n",
      "3             462.0        Non payé       10000.000  \n",
      "4           10753.2        Non payé        6012.000  \n",
      "\n",
      "Basic Info:\n",
      "<class 'pandas.core.frame.DataFrame'>\n",
      "RangeIndex: 92981 entries, 0 to 92980\n",
      "Data columns (total 11 columns):\n",
      " #   Column            Non-Null Count  Dtype  \n",
      "---  ------            --------------  -----  \n",
      " 0   REF_PERSONNE      92981 non-null  int64  \n",
      " 1   NUM_CONTRAT       92981 non-null  int64  \n",
      " 2   LIB_PRODUIT       92981 non-null  object \n",
      " 3   EFFET_CONTRAT     92981 non-null  object \n",
      " 4   DATE_EXPIRATION   85935 non-null  object \n",
      " 5   PROCHAIN_TERME    7010 non-null   object \n",
      " 6   LIB_ETAT_CONTRAT  92981 non-null  object \n",
      " 7   branche           92981 non-null  object \n",
      " 8   somme_quittances  92941 non-null  float64\n",
      " 9   statut_paiement   92941 non-null  object \n",
      " 10  Capital_assure    92875 non-null  float64\n",
      "dtypes: float64(2), int64(2), object(7)\n",
      "memory usage: 7.8+ MB\n"
     ]
    }
   ],
   "source": [
    "print('Dataset shape:',df.shape)\n",
    "print(\"\\nColumn Names:\", df.columns.tolist())\n",
    "print(\"\\nData Types:\\n\", df.dtypes)\n",
    "print(\"\\nFirst 5 rows:\\n\", df.head())\n",
    "print(\"\\nBasic Info:\")\n",
    "df.info()"
   ]
  },
  {
   "cell_type": "markdown",
   "id": "0d623d26",
   "metadata": {},
   "source": [
    "Data quality assessment"
   ]
  },
  {
   "cell_type": "code",
   "execution_count": 6,
   "id": "eb3dd72e",
   "metadata": {},
   "outputs": [
    {
     "name": "stdout",
     "output_type": "stream",
     "text": [
      "Missing Values Analysis:\n",
      "                  Missing_Count  Missing_Percentage  Unique_Values\n",
      "REF_PERSONNE                  0            0.000000          40864\n",
      "NUM_CONTRAT                   0            0.000000          92981\n",
      "LIB_PRODUIT                   0            0.000000             92\n",
      "EFFET_CONTRAT                 0            0.000000           7913\n",
      "DATE_EXPIRATION            7046            7.577892          12009\n",
      "PROCHAIN_TERME            85971           92.460825           3624\n",
      "LIB_ETAT_CONTRAT              0            0.000000              6\n",
      "branche                       0            0.000000              7\n",
      "somme_quittances             40            0.043020          31842\n",
      "statut_paiement              40            0.043020              2\n",
      "Capital_assure              106            0.114002           4467\n",
      "\n",
      "Data Type Validation:\n",
      "REF_PERSONNE: int64\n",
      "NUM_CONTRAT: int64\n",
      "LIB_PRODUIT: object\n",
      "EFFET_CONTRAT: object\n",
      "DATE_EXPIRATION: object\n",
      "PROCHAIN_TERME: object\n",
      "LIB_ETAT_CONTRAT: object\n",
      "branche: object\n",
      "somme_quittances: float64\n",
      "statut_paiement: object\n",
      "Capital_assure: float64\n"
     ]
    }
   ],
   "source": [
    "def assess_data_quality(df):\n",
    "    \"\"\"Comprehensive data quality assessment\"\"\"\n",
    "    \n",
    "    # Missing values analysis\n",
    "    missing_stats = pd.DataFrame({\n",
    "        'Missing_Count': df.isnull().sum(),\n",
    "        'Missing_Percentage': (df.isnull().sum() / len(df)) * 100,\n",
    "        'Unique_Values': df.nunique()\n",
    "    })\n",
    "    \n",
    "    print(\"Missing Values Analysis:\")\n",
    "    print(missing_stats)\n",
    "    \n",
    "    # Data type validation\n",
    "    print(\"\\nData Type Validation:\")\n",
    "    for col in df.columns:\n",
    "        print(f\"{col}: {df[col].dtype}\")\n",
    "    \n",
    "    return missing_stats\n",
    "\n",
    "\n",
    "quality_report = assess_data_quality(df)"
   ]
  },
  {
   "cell_type": "markdown",
   "id": "1004690e",
   "metadata": {},
   "source": [
    "somme_quittances,statut_paiement and Capital_assure"
   ]
  },
  {
   "cell_type": "code",
   "execution_count": 7,
   "id": "137e1466",
   "metadata": {},
   "outputs": [],
   "source": [
    "df2 = df.dropna(subset=['somme_quittances','statut_paiement'])"
   ]
  },
  {
   "cell_type": "code",
   "execution_count": 8,
   "id": "0f148d38",
   "metadata": {},
   "outputs": [
    {
     "name": "stdout",
     "output_type": "stream",
     "text": [
      "Missing Values Analysis:\n",
      "                  Missing_Count  Missing_Percentage  Unique_Values\n",
      "REF_PERSONNE                  0            0.000000          40856\n",
      "NUM_CONTRAT                   0            0.000000          92941\n",
      "LIB_PRODUIT                   0            0.000000             92\n",
      "EFFET_CONTRAT                 0            0.000000           7913\n",
      "DATE_EXPIRATION            7033            7.567166          12009\n",
      "PROCHAIN_TERME            85933           92.459733           3623\n",
      "LIB_ETAT_CONTRAT              0            0.000000              6\n",
      "branche                       0            0.000000              7\n",
      "somme_quittances              0            0.000000          31842\n",
      "statut_paiement               0            0.000000              2\n",
      "Capital_assure               92            0.098988           4465\n",
      "\n",
      "Data Type Validation:\n",
      "REF_PERSONNE: int64\n",
      "NUM_CONTRAT: int64\n",
      "LIB_PRODUIT: object\n",
      "EFFET_CONTRAT: object\n",
      "DATE_EXPIRATION: object\n",
      "PROCHAIN_TERME: object\n",
      "LIB_ETAT_CONTRAT: object\n",
      "branche: object\n",
      "somme_quittances: float64\n",
      "statut_paiement: object\n",
      "Capital_assure: float64\n"
     ]
    }
   ],
   "source": [
    "report = assess_data_quality(df2)"
   ]
  },
  {
   "cell_type": "code",
   "execution_count": 9,
   "id": "71e6776e",
   "metadata": {},
   "outputs": [],
   "source": [
    "df2 = df2.dropna(subset=['Capital_assure'])"
   ]
  },
  {
   "cell_type": "code",
   "execution_count": 10,
   "id": "d92b86fa",
   "metadata": {},
   "outputs": [
    {
     "name": "stdout",
     "output_type": "stream",
     "text": [
      "Missing Values Analysis:\n",
      "                  Missing_Count  Missing_Percentage  Unique_Values\n",
      "REF_PERSONNE                  0            0.000000          40825\n",
      "NUM_CONTRAT                   0            0.000000          92849\n",
      "LIB_PRODUIT                   0            0.000000             91\n",
      "EFFET_CONTRAT                 0            0.000000           7913\n",
      "DATE_EXPIRATION            6958            7.493888          12009\n",
      "PROCHAIN_TERME            85916           92.533038           3617\n",
      "LIB_ETAT_CONTRAT              0            0.000000              6\n",
      "branche                       0            0.000000              6\n",
      "somme_quittances              0            0.000000          31781\n",
      "statut_paiement               0            0.000000              2\n",
      "Capital_assure                0            0.000000           4465\n",
      "\n",
      "Data Type Validation:\n",
      "REF_PERSONNE: int64\n",
      "NUM_CONTRAT: int64\n",
      "LIB_PRODUIT: object\n",
      "EFFET_CONTRAT: object\n",
      "DATE_EXPIRATION: object\n",
      "PROCHAIN_TERME: object\n",
      "LIB_ETAT_CONTRAT: object\n",
      "branche: object\n",
      "somme_quittances: float64\n",
      "statut_paiement: object\n",
      "Capital_assure: float64\n"
     ]
    }
   ],
   "source": [
    "report = assess_data_quality(df2)"
   ]
  },
  {
   "cell_type": "markdown",
   "id": "99d31b4f",
   "metadata": {},
   "source": [
    "Exporting the data"
   ]
  },
  {
   "cell_type": "code",
   "execution_count": 11,
   "id": "d5d7f279",
   "metadata": {},
   "outputs": [],
   "source": [
    "df2.to_pickle('../../data/contrats.pkl')"
   ]
  }
 ],
 "metadata": {
  "kernelspec": {
   "display_name": "venv",
   "language": "python",
   "name": "python3"
  },
  "language_info": {
   "codemirror_mode": {
    "name": "ipython",
    "version": 3
   },
   "file_extension": ".py",
   "mimetype": "text/x-python",
   "name": "python",
   "nbconvert_exporter": "python",
   "pygments_lexer": "ipython3",
   "version": "3.10.0"
  }
 },
 "nbformat": 4,
 "nbformat_minor": 5
}
