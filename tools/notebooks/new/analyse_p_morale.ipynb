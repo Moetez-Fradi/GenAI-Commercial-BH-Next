{
 "cells": [
  {
   "cell_type": "code",
   "execution_count": 1,
   "id": "ebbb9991",
   "metadata": {},
   "outputs": [],
   "source": [
    "import pandas as pd\n",
    "import seaborn as sns\n",
    "import matplotlib.pyplot as plt\n",
    "%matplotlib inline"
   ]
  },
  {
   "cell_type": "code",
   "execution_count": 2,
   "id": "ff622881",
   "metadata": {},
   "outputs": [],
   "source": [
    "df = pd.read_excel('../../data/Donn_es_Assurance_S2.1.xlsx',sheet_name='personne_morale')"
   ]
  },
  {
   "cell_type": "markdown",
   "id": "80c19a01",
   "metadata": {},
   "source": [
    "dataframe shape"
   ]
  },
  {
   "cell_type": "code",
   "execution_count": 3,
   "id": "792c0a5f",
   "metadata": {},
   "outputs": [
    {
     "data": {
      "text/plain": [
       "(747, 8)"
      ]
     },
     "execution_count": 3,
     "metadata": {},
     "output_type": "execute_result"
    }
   ],
   "source": [
    "df.shape"
   ]
  },
  {
   "cell_type": "markdown",
   "id": "88133b86",
   "metadata": {},
   "source": [
    "checking for duplicates"
   ]
  },
  {
   "cell_type": "code",
   "execution_count": 4,
   "id": "4db1ff27",
   "metadata": {},
   "outputs": [
    {
     "data": {
      "text/plain": [
       "np.int64(0)"
      ]
     },
     "execution_count": 4,
     "metadata": {},
     "output_type": "execute_result"
    }
   ],
   "source": [
    "df.duplicated().sum()"
   ]
  },
  {
   "cell_type": "markdown",
   "id": "7dd69ebb",
   "metadata": {},
   "source": [
    "checking for missing values"
   ]
  },
  {
   "cell_type": "code",
   "execution_count": 5,
   "id": "b5a9188e",
   "metadata": {},
   "outputs": [
    {
     "data": {
      "text/plain": [
       "REF_PERSONNE              0\n",
       "RAISON_SOCIALE            0\n",
       "MATRICULE_FISCALE         0\n",
       "LIB_SECTEUR_ACTIVITE      0\n",
       "LIB_ACTIVITE              8\n",
       "VILLE                   427\n",
       "LIB_GOUVERNORAT         481\n",
       "VILLE_GOUVERNORAT         0\n",
       "dtype: int64"
      ]
     },
     "execution_count": 5,
     "metadata": {},
     "output_type": "execute_result"
    }
   ],
   "source": [
    "df.isna().sum()"
   ]
  },
  {
   "cell_type": "markdown",
   "id": "94efaffe",
   "metadata": {},
   "source": [
    "Missing values in VILLE and LIB_GOUVERNORAT generally does not affect our recommendation system."
   ]
  },
  {
   "cell_type": "code",
   "execution_count": 6,
   "id": "886292f0",
   "metadata": {},
   "outputs": [
    {
     "data": {
      "text/plain": [
       "REF_PERSONNE            747\n",
       "RAISON_SOCIALE          747\n",
       "MATRICULE_FISCALE       747\n",
       "LIB_SECTEUR_ACTIVITE     61\n",
       "LIB_ACTIVITE            251\n",
       "VILLE                   159\n",
       "LIB_GOUVERNORAT          19\n",
       "VILLE_GOUVERNORAT       167\n",
       "dtype: int64"
      ]
     },
     "execution_count": 6,
     "metadata": {},
     "output_type": "execute_result"
    }
   ],
   "source": [
    "df.nunique()"
   ]
  },
  {
   "cell_type": "markdown",
   "id": "2f597043",
   "metadata": {},
   "source": [
    "* REF_PERSONNE, RAISON_SOCIALE, MATRICULE_FISCALE can be considered as unique identifiers\n",
    "* we have 61 unique LIB_SECTEUR_ACTIVITE and 251 LIB_ACTIVITE (we need to check if some categories are well encoded)\n"
   ]
  },
  {
   "cell_type": "markdown",
   "id": "8d696bb5",
   "metadata": {},
   "source": [
    "Columns dtypes"
   ]
  },
  {
   "cell_type": "code",
   "execution_count": 7,
   "id": "24b96ea3",
   "metadata": {},
   "outputs": [
    {
     "data": {
      "text/plain": [
       "REF_PERSONNE             int64\n",
       "RAISON_SOCIALE          object\n",
       "MATRICULE_FISCALE       object\n",
       "LIB_SECTEUR_ACTIVITE    object\n",
       "LIB_ACTIVITE            object\n",
       "VILLE                   object\n",
       "LIB_GOUVERNORAT         object\n",
       "VILLE_GOUVERNORAT       object\n",
       "dtype: object"
      ]
     },
     "execution_count": 7,
     "metadata": {},
     "output_type": "execute_result"
    }
   ],
   "source": [
    "df.dtypes"
   ]
  },
  {
   "cell_type": "markdown",
   "id": "ea569a34",
   "metadata": {},
   "source": [
    "All columns are strings except REF_PERSONNE which is numeric"
   ]
  },
  {
   "cell_type": "markdown",
   "id": "c2d30db9",
   "metadata": {},
   "source": [
    "Columns Analysis:\n",
    "* personne_morale: represents legal entities or companies\n",
    "* REF_PERSONNE: id/reference code for each company.\n",
    "* RAISON_SOCIALE: the official registered name of the company (This is the legal name under which the company operates)\n",
    "* MATRICULE_FISCALE: tax identification number or fiscal registration number assigned to the company by the tax authority. (used for tax reporting and official financial transactions)\n",
    "* LIB_SECTEUR_ACTIVITE: the sector of activity in which the company operates\n",
    "* LIB_ACTIVITE: a more detailed description of the company's specific activity or business.\n",
    "* VILLE: The city where the company is located or registered\n",
    "* LIB_GOUVERNORAT: The governorate where the company is located\n",
    "* VILLE_GOUVERNORAT: This represents the city within the governorate."
   ]
  },
  {
   "cell_type": "markdown",
   "id": "4d67deaf",
   "metadata": {},
   "source": [
    "We can deal with the 8 missing values in LIB_ACTIVITE with LIB_SECTEUR_ACTIVITE to preserve meaningful information."
   ]
  },
  {
   "cell_type": "code",
   "execution_count": 8,
   "id": "128f68fd",
   "metadata": {},
   "outputs": [
    {
     "data": {
      "text/html": [
       "<div>\n",
       "<style scoped>\n",
       "    .dataframe tbody tr th:only-of-type {\n",
       "        vertical-align: middle;\n",
       "    }\n",
       "\n",
       "    .dataframe tbody tr th {\n",
       "        vertical-align: top;\n",
       "    }\n",
       "\n",
       "    .dataframe thead th {\n",
       "        text-align: right;\n",
       "    }\n",
       "</style>\n",
       "<table border=\"1\" class=\"dataframe\">\n",
       "  <thead>\n",
       "    <tr style=\"text-align: right;\">\n",
       "      <th></th>\n",
       "      <th>REF_PERSONNE</th>\n",
       "      <th>RAISON_SOCIALE</th>\n",
       "      <th>MATRICULE_FISCALE</th>\n",
       "      <th>LIB_SECTEUR_ACTIVITE</th>\n",
       "      <th>LIB_ACTIVITE</th>\n",
       "      <th>VILLE</th>\n",
       "      <th>LIB_GOUVERNORAT</th>\n",
       "      <th>VILLE_GOUVERNORAT</th>\n",
       "    </tr>\n",
       "  </thead>\n",
       "  <tbody>\n",
       "    <tr>\n",
       "      <th>89</th>\n",
       "      <td>98018</td>\n",
       "      <td>Societe_000090</td>\n",
       "      <td>0000090G</td>\n",
       "      <td>INDUSTRIE</td>\n",
       "      <td>NaN</td>\n",
       "      <td>NaN</td>\n",
       "      <td>NaN</td>\n",
       "      <td>-</td>\n",
       "    </tr>\n",
       "    <tr>\n",
       "      <th>150</th>\n",
       "      <td>395189</td>\n",
       "      <td>Societe_000151</td>\n",
       "      <td>0000151R</td>\n",
       "      <td>AUCUN</td>\n",
       "      <td>NaN</td>\n",
       "      <td>NaN</td>\n",
       "      <td>NaN</td>\n",
       "      <td>-</td>\n",
       "    </tr>\n",
       "    <tr>\n",
       "      <th>213</th>\n",
       "      <td>550886</td>\n",
       "      <td>Societe_000214</td>\n",
       "      <td>0000214K</td>\n",
       "      <td>ACTIVITE SPORTIVE</td>\n",
       "      <td>NaN</td>\n",
       "      <td>NaN</td>\n",
       "      <td>NaN</td>\n",
       "      <td>-</td>\n",
       "    </tr>\n",
       "    <tr>\n",
       "      <th>222</th>\n",
       "      <td>553109</td>\n",
       "      <td>Societe_000223</td>\n",
       "      <td>0000223B</td>\n",
       "      <td>ACTIVITE SPORTIVE</td>\n",
       "      <td>NaN</td>\n",
       "      <td>NaN</td>\n",
       "      <td>NaN</td>\n",
       "      <td>-</td>\n",
       "    </tr>\n",
       "    <tr>\n",
       "      <th>225</th>\n",
       "      <td>557042</td>\n",
       "      <td>Societe_000226</td>\n",
       "      <td>0000226I</td>\n",
       "      <td>ÉDUCATION</td>\n",
       "      <td>NaN</td>\n",
       "      <td>NaN</td>\n",
       "      <td>NaN</td>\n",
       "      <td>-</td>\n",
       "    </tr>\n",
       "    <tr>\n",
       "      <th>227</th>\n",
       "      <td>557111</td>\n",
       "      <td>Societe_000228</td>\n",
       "      <td>0000228X</td>\n",
       "      <td>ACTIVITE SPORTIVE</td>\n",
       "      <td>NaN</td>\n",
       "      <td>NaN</td>\n",
       "      <td>NaN</td>\n",
       "      <td>-</td>\n",
       "    </tr>\n",
       "    <tr>\n",
       "      <th>489</th>\n",
       "      <td>557149</td>\n",
       "      <td>Societe_000490</td>\n",
       "      <td>0000490Y</td>\n",
       "      <td>AUCUN</td>\n",
       "      <td>NaN</td>\n",
       "      <td>Haffouz</td>\n",
       "      <td>ARIANA</td>\n",
       "      <td>Haffouz - ARIANA</td>\n",
       "    </tr>\n",
       "    <tr>\n",
       "      <th>679</th>\n",
       "      <td>557052</td>\n",
       "      <td>Societe_000680</td>\n",
       "      <td>0000680U</td>\n",
       "      <td>POSTES ET TÉLÉCOMMUNICATIONS</td>\n",
       "      <td>NaN</td>\n",
       "      <td>Berge Du Lac</td>\n",
       "      <td>TUNIS</td>\n",
       "      <td>Berge Du Lac - TUNIS</td>\n",
       "    </tr>\n",
       "  </tbody>\n",
       "</table>\n",
       "</div>"
      ],
      "text/plain": [
       "     REF_PERSONNE  RAISON_SOCIALE MATRICULE_FISCALE  \\\n",
       "89          98018  Societe_000090          0000090G   \n",
       "150        395189  Societe_000151          0000151R   \n",
       "213        550886  Societe_000214          0000214K   \n",
       "222        553109  Societe_000223          0000223B   \n",
       "225        557042  Societe_000226          0000226I   \n",
       "227        557111  Societe_000228          0000228X   \n",
       "489        557149  Societe_000490          0000490Y   \n",
       "679        557052  Societe_000680          0000680U   \n",
       "\n",
       "             LIB_SECTEUR_ACTIVITE LIB_ACTIVITE         VILLE LIB_GOUVERNORAT  \\\n",
       "89                     INDUSTRIE           NaN           NaN             NaN   \n",
       "150                         AUCUN          NaN           NaN             NaN   \n",
       "213             ACTIVITE SPORTIVE          NaN           NaN             NaN   \n",
       "222             ACTIVITE SPORTIVE          NaN           NaN             NaN   \n",
       "225                     ÉDUCATION          NaN           NaN             NaN   \n",
       "227             ACTIVITE SPORTIVE          NaN           NaN             NaN   \n",
       "489                         AUCUN          NaN       Haffouz          ARIANA   \n",
       "679  POSTES ET TÉLÉCOMMUNICATIONS          NaN  Berge Du Lac           TUNIS   \n",
       "\n",
       "        VILLE_GOUVERNORAT  \n",
       "89                     -   \n",
       "150                    -   \n",
       "213                    -   \n",
       "222                    -   \n",
       "225                    -   \n",
       "227                    -   \n",
       "489      Haffouz - ARIANA  \n",
       "679  Berge Du Lac - TUNIS  "
      ]
     },
     "execution_count": 8,
     "metadata": {},
     "output_type": "execute_result"
    }
   ],
   "source": [
    "df[df['LIB_ACTIVITE'].isnull()]"
   ]
  },
  {
   "cell_type": "code",
   "execution_count": 9,
   "id": "ab067d86",
   "metadata": {},
   "outputs": [
    {
     "name": "stderr",
     "output_type": "stream",
     "text": [
      "C:\\Users\\ghass\\AppData\\Local\\Temp\\ipykernel_8308\\3450509230.py:1: FutureWarning: A value is trying to be set on a copy of a DataFrame or Series through chained assignment using an inplace method.\n",
      "The behavior will change in pandas 3.0. This inplace method will never work because the intermediate object on which we are setting values always behaves as a copy.\n",
      "\n",
      "For example, when doing 'df[col].method(value, inplace=True)', try using 'df.method({col: value}, inplace=True)' or df[col] = df[col].method(value) instead, to perform the operation inplace on the original object.\n",
      "\n",
      "\n",
      "  df['LIB_ACTIVITE'].fillna(df['LIB_SECTEUR_ACTIVITE'],inplace=True)\n"
     ]
    }
   ],
   "source": [
    "df['LIB_ACTIVITE'].fillna(df['LIB_SECTEUR_ACTIVITE'],inplace=True)"
   ]
  },
  {
   "cell_type": "code",
   "execution_count": 10,
   "id": "5edfb396",
   "metadata": {},
   "outputs": [
    {
     "data": {
      "text/plain": [
       "REF_PERSONNE            747\n",
       "RAISON_SOCIALE          747\n",
       "MATRICULE_FISCALE       747\n",
       "LIB_SECTEUR_ACTIVITE     61\n",
       "LIB_ACTIVITE            256\n",
       "VILLE                   159\n",
       "LIB_GOUVERNORAT          19\n",
       "VILLE_GOUVERNORAT       167\n",
       "dtype: int64"
      ]
     },
     "execution_count": 10,
     "metadata": {},
     "output_type": "execute_result"
    }
   ],
   "source": [
    "df.nunique()"
   ]
  },
  {
   "cell_type": "markdown",
   "id": "d0822c18",
   "metadata": {},
   "source": [
    "EDA for activity/sector columns"
   ]
  },
  {
   "cell_type": "markdown",
   "id": "577aa8b1",
   "metadata": {},
   "source": [
    "Questions:\n",
    "* How many unique sectors and activities exist?\n",
    "* Are these sectors with very few activities(or vice versa)?"
   ]
  },
  {
   "cell_type": "code",
   "execution_count": 11,
   "id": "17b52d22",
   "metadata": {},
   "outputs": [
    {
     "name": "stdout",
     "output_type": "stream",
     "text": [
      "Unique Sectors: 61\n",
      "Unique Actvities: 256\n"
     ]
    }
   ],
   "source": [
    "print('Unique Sectors:',df['LIB_SECTEUR_ACTIVITE'].nunique())\n",
    "print('Unique Actvities:',df['LIB_ACTIVITE'].nunique())"
   ]
  },
  {
   "cell_type": "code",
   "execution_count": 12,
   "id": "83ed18da",
   "metadata": {},
   "outputs": [
    {
     "name": "stdout",
     "output_type": "stream",
     "text": [
      "\n",
      "Top 10 sectors:\n",
      "LIB_SECTEUR_ACTIVITE\n",
      "AUCUN                                              93\n",
      "COMMERCE DE GROS ET INTERMÉDIAIRES DU COMMERCE     51\n",
      "ACTIVITES IARD TARIFIABLES                         50\n",
      "SERVICES FOURNIS PRINCIPALEMENT AUX ENTREPRISES    41\n",
      "CONSTRUCTION                                       38\n",
      "ACTIVITÉS INFORMATIQUES                            29\n",
      "ACTIVITÉS IMMOBILIÈRES                             29\n",
      "HÔTELS ET RESTAURANTS                              29\n",
      "AGRICULTURE, CHASSE, SERVICES ANNEXES              28\n",
      "SANTÉ ET ACTION SOCIALE                            25\n",
      "Name: count, dtype: int64\n",
      "\n",
      "Top 10 Activities:\n",
      "LIB_ACTIVITE\n",
      "NON DEFINI                                      91\n",
      "PROMOTION IMMOBILIÈRE DE LOGEMENTS              24\n",
      "AUXILIAIRES D ASSURANCE                         16\n",
      "CULTURE DE CÉRÉALES ; CULTURES INDUSTRIELLES    12\n",
      "AGENCES ET BUREAUX                              12\n",
      "BANQUES                                         12\n",
      "CONSEIL POUR LES AFFAIRES ET LA GESTION         12\n",
      "AUTRES ACTIVITÉS SPORTIVES                      11\n",
      "CONSTRUCTION DE BÂTIMENTS DIVERS                11\n",
      "ACTIVITÉS DES AUXILIAIRES MÉDICAUX              10\n",
      "Name: count, dtype: int64\n"
     ]
    }
   ],
   "source": [
    "# Frequency distribution\n",
    "print('\\nTop 10 sectors:')\n",
    "print(df['LIB_SECTEUR_ACTIVITE'].value_counts().head(10))\n",
    "\n",
    "print('\\nTop 10 Activities:')\n",
    "print(df['LIB_ACTIVITE'].value_counts().head(10))"
   ]
  },
  {
   "cell_type": "markdown",
   "id": "2c6182a2",
   "metadata": {},
   "source": [
    "As we can see, we have many companies whose Sector and activities are not defined, since we don't know any information about them we can't recommend them anything, they will be filtered."
   ]
  },
  {
   "cell_type": "code",
   "execution_count": 13,
   "id": "c2d691a3",
   "metadata": {},
   "outputs": [
    {
     "name": "stdout",
     "output_type": "stream",
     "text": [
      "original shape (747, 8)\n",
      "Filtered shape: (654, 8)\n"
     ]
    }
   ],
   "source": [
    "filtered_df = df[\n",
    "    (df['LIB_SECTEUR_ACTIVITE']!='AUCUN') &\n",
    "    (df['LIB_ACTIVITE']!='NON DEFINI')\n",
    "]\n",
    "print('original shape',df.shape)\n",
    "print('Filtered shape:',filtered_df.shape)"
   ]
  },
  {
   "cell_type": "code",
   "execution_count": 14,
   "id": "bdfc656c",
   "metadata": {},
   "outputs": [
    {
     "name": "stdout",
     "output_type": "stream",
     "text": [
      "\n",
      "Top 10 sectors:\n",
      "LIB_SECTEUR_ACTIVITE\n",
      "COMMERCE DE GROS ET INTERMÉDIAIRES DU COMMERCE     51\n",
      "ACTIVITES IARD TARIFIABLES                         50\n",
      "SERVICES FOURNIS PRINCIPALEMENT AUX ENTREPRISES    41\n",
      "CONSTRUCTION                                       38\n",
      "ACTIVITÉS INFORMATIQUES                            29\n",
      "ACTIVITÉS IMMOBILIÈRES                             29\n",
      "HÔTELS ET RESTAURANTS                              29\n",
      "AGRICULTURE, CHASSE, SERVICES ANNEXES              28\n",
      "SANTÉ ET ACTION SOCIALE                            25\n",
      "TRANSPORTS TERRESTRES                              23\n",
      "Name: count, dtype: int64\n",
      "\n",
      "Top 10 Activities:\n",
      "LIB_ACTIVITE\n",
      "PROMOTION IMMOBILIÈRE DE LOGEMENTS              24\n",
      "AUXILIAIRES D ASSURANCE                         16\n",
      "AGENCES ET BUREAUX                              12\n",
      "BANQUES                                         12\n",
      "CONSEIL POUR LES AFFAIRES ET LA GESTION         12\n",
      "CULTURE DE CÉRÉALES ; CULTURES INDUSTRIELLES    12\n",
      "AUTRES ACTIVITÉS SPORTIVES                      11\n",
      "CONSTRUCTION DE BÂTIMENTS DIVERS                11\n",
      "AUTRES ACTIVITÉS RATTACHÉES À L INFORMATIQUE    10\n",
      "AUTRES COMMERCES DE GROS                        10\n",
      "Name: count, dtype: int64\n"
     ]
    }
   ],
   "source": [
    "# Frequency distribution of filtered_df\n",
    "print('\\nTop 10 sectors:')\n",
    "print(filtered_df['LIB_SECTEUR_ACTIVITE'].value_counts().head(10))\n",
    "\n",
    "print('\\nTop 10 Activities:')\n",
    "print(filtered_df['LIB_ACTIVITE'].value_counts().head(10))"
   ]
  },
  {
   "cell_type": "markdown",
   "id": "4dd94978",
   "metadata": {},
   "source": [
    "After filtering these rows, we can see that we don't have any undefined values in both columns, which means that rows which had undefined activities also had undefined sectors."
   ]
  },
  {
   "cell_type": "markdown",
   "id": "71190601",
   "metadata": {},
   "source": [
    "But we have some rows with missing Secteur and activite (decoded as empty string) we need to deal with them.We can replace them with activities"
   ]
  },
  {
   "cell_type": "code",
   "execution_count": 15,
   "id": "78a99705",
   "metadata": {},
   "outputs": [
    {
     "name": "stdout",
     "output_type": "stream",
     "text": [
      "Number of empty string decoded sectors: 10\n",
      "Sample rows with empty sectors:\n",
      "     REF_PERSONNE  RAISON_SOCIALE MATRICULE_FISCALE LIB_SECTEUR_ACTIVITE  \\\n",
      "108        250773  Societe_000109          0000109J                        \n",
      "142        372953  Societe_000143          0000143Y                        \n",
      "144        373499  Societe_000145          0000145O                        \n",
      "146        373506  Societe_000147          0000147S                        \n",
      "166        423216  Societe_000167          0000167J                        \n",
      "189        447730  Societe_000190          0000190M                        \n",
      "581        505957  Societe_000582          0000582Q                        \n",
      "674        498213  Societe_000675          0000675V                        \n",
      "675        500075  Societe_000676          0000676M                        \n",
      "710        435481  Societe_000711          0000711Q                        \n",
      "\n",
      "              LIB_ACTIVITE          VILLE LIB_GOUVERNORAT  \\\n",
      "108  SERVICE INFORMATIQUE             NaN             NaN   \n",
      "142               clinique            NaN             NaN   \n",
      "144               clinique            NaN             NaN   \n",
      "146               clinique   El Menzah VI             NaN   \n",
      "166                MEDECIN            NaN             NaN   \n",
      "189  INSTITUT DE FORMATION            NaN             NaN   \n",
      "581               clinique   Ben Guerdane        MEDENINE   \n",
      "674               clinique   Berge Du Lac           TUNIS   \n",
      "675               clinique  Bab El Khadra           TUNIS   \n",
      "710  INSTITUT DE FORMATION  SIDI BOU SAID           TUNIS   \n",
      "\n",
      "           VILLE_GOUVERNORAT  \n",
      "108                       -   \n",
      "142                       -   \n",
      "144                       -   \n",
      "146          El Menzah VI -   \n",
      "166                       -   \n",
      "189                       -   \n",
      "581  Ben Guerdane - MEDENINE  \n",
      "674     Berge Du Lac - TUNIS  \n",
      "675    Bab El Khadra - TUNIS  \n",
      "710    SIDI BOU SAID - TUNIS  \n"
     ]
    }
   ],
   "source": [
    "empty_mask = (\n",
    "    filtered_df['LIB_SECTEUR_ACTIVITE'].str.strip().eq('') \n",
    ")\n",
    "print(f\"Number of empty string decoded sectors: {empty_mask.sum()}\")\n",
    "print('Sample rows with empty sectors:')\n",
    "print(filtered_df[empty_mask])"
   ]
  },
  {
   "cell_type": "code",
   "execution_count": 16,
   "id": "3a9a175b",
   "metadata": {},
   "outputs": [
    {
     "name": "stderr",
     "output_type": "stream",
     "text": [
      "C:\\Users\\ghass\\AppData\\Local\\Temp\\ipykernel_8308\\3297227665.py:1: SettingWithCopyWarning: \n",
      "A value is trying to be set on a copy of a slice from a DataFrame.\n",
      "Try using .loc[row_indexer,col_indexer] = value instead\n",
      "\n",
      "See the caveats in the documentation: https://pandas.pydata.org/pandas-docs/stable/user_guide/indexing.html#returning-a-view-versus-a-copy\n",
      "  filtered_df['LIB_SECTEUR_ACTIVITE'] = filtered_df.apply(\n"
     ]
    }
   ],
   "source": [
    "filtered_df['LIB_SECTEUR_ACTIVITE'] = filtered_df.apply(\n",
    "    lambda row: row['LIB_ACTIVITE'] if empty_mask[row.name] and pd.notna(row['LIB_ACTIVITE']) else row['LIB_SECTEUR_ACTIVITE'],\n",
    "    axis=1\n",
    ")"
   ]
  },
  {
   "cell_type": "markdown",
   "id": "24cef71b",
   "metadata": {},
   "source": [
    "we also need to apply the empty mask to LIB_ACTIVITE if there are empty string decoded values."
   ]
  },
  {
   "cell_type": "code",
   "execution_count": 17,
   "id": "f08421ca",
   "metadata": {},
   "outputs": [
    {
     "name": "stdout",
     "output_type": "stream",
     "text": [
      "Number of empty string decoded sectors: 0\n",
      "Sample rows with empty sectors:\n",
      "Empty DataFrame\n",
      "Columns: [REF_PERSONNE, RAISON_SOCIALE, MATRICULE_FISCALE, LIB_SECTEUR_ACTIVITE, LIB_ACTIVITE, VILLE, LIB_GOUVERNORAT, VILLE_GOUVERNORAT]\n",
      "Index: []\n"
     ]
    }
   ],
   "source": [
    "empty_mask_2 = (\n",
    "    filtered_df['LIB_ACTIVITE'].str.strip().eq('') \n",
    ")\n",
    "print(f\"Number of empty string decoded sectors: {empty_mask_2.sum()}\")\n",
    "print('Sample rows with empty sectors:')\n",
    "print(filtered_df[empty_mask_2])"
   ]
  },
  {
   "cell_type": "markdown",
   "id": "2e880de1",
   "metadata": {},
   "source": [
    "We can now map activities to sector, to check for any illogical mapping."
   ]
  },
  {
   "cell_type": "code",
   "execution_count": 18,
   "id": "5957e194",
   "metadata": {},
   "outputs": [
    {
     "name": "stdout",
     "output_type": "stream",
     "text": [
      "Sector:'ACTIVITE SPORTIVE\n",
      "Activities:ACTIVITE SPORTIVE\n",
      "\n",
      "Sector:'ACTIVITES IARD TARIFIABLES\n",
      "Activities:QUINCAILLERIES (COMMERCE), ELECTRICITE (COMMERCE D ARTICLES D ECLAIRAGE), HYGIENE (ETABLISSEMENT DE BAIN DOUCHE HAMMAM SAUNA), IMPRIMERIE, TYPOGRAPHIES ET OFFSET, AGENCE ( DE VOYAGE,ASSURANCE,IMMOBILIERE), ECOLES, COLLEGES, CENTRE DE FORMATION, SALLE DE SPECTACLE OU DE FETE, BOULANGERIE AVEC FOURS AU FUEL (SANS FABRICATION DE BISCUITS ET DE GATEAUX SECS), ELECTRICIENS (REPARATION ET VENTE DE FOURNITURES POUR INSTALLATIONS ELECTRIQUE A L EXEPTION DU MATERIEL TRAITE SOUS LA RUBRIQUE -RADIO TV- ), ABBATOIRS ET DEPENDANCES(AVEC CHAMBRE FRIGORIFIQUE D UNE CAPACITE < 120 M3), VERRERIE, VAISSELLES (MAGASIN DE VENTE), PHARMACIENS (VENTE EN DETAIL), BATIMENTS : ENTREPRENEURS DE MACONNERIE ET DE CONSTRUCTION, ALIMENTATION GENERALE (COMMERCE), LINGE DE MAISON (MAGASIN DE VENTE), MATIERES PLASTIQUES  (COMMERCE D ARTICLES EN), MEDECIN, RESTAURANT, SELF SERVICE ET CANTINE, OPTIQUE ACOUSTIQUE AVEC VENTE APPAREIL PHOTO (INSTRUMENT DE), BOUCHERIES, VOLAILLES ET POISSONS (MAGASIN DE VENTE AVEC CHAMBRE FRIGORIFIQUE D UNE CAPACITE TOTALE < 120 M3), VOLAILLES, ARTICLES DE FERMES, ALIMENTATION GENERALE LEGUMES ET FRUITS , MATERIEL INFORMATIQUE (VENTE), CLINIQUES (SANS PRESENCE DE RADIO - ISOTOPE), FRUITS, PRIMEURS, LEGUMES(MAGASIN DE VENTE), LAVERIE SELF SERVICE AVEC OU SANS SECHOIR, TRAVAUX DE METAUX(PROFESSION AUTRE QUE CELLE DESIGNEES PAR AILLEURS - AJUSTAGE,ATELIER DE MECANIQUE ET ATELIER DE MONTAGE, CHARPENTE ET CONSTRUCTION METALLIQUE, CHAUDRONNERIE, DECOLLETAGE, DECOUPAGE, EMBOUTISSAGE, ESTAMPAGE, ETIRAGE, FERBLANTERIE, FERRONERIE, FONDERIE, FORGE, SERRURERIE, TOLERIE, TOURNAGE, TREFILERIE, VISSERIE )\n",
      "\n",
      "Sector:'ACTIVITES MRP TARIFIABLES\n",
      "Activities:Bureau administratif , Parfumerie\n",
      "\n",
      "Sector:'ACTIVITÉS ASSOCIATIVES\n",
      "Activities:ORGANISATIONS ASSOCIATIVES N.C.A., ORGANISATIONS PROFESSIONNELLES, ORGANISATIONS PATRONALES ET CONSULAIRES\n",
      "\n",
      "Sector:'ACTIVITÉS IMMOBILIÈRES\n",
      "Activities:PROMOTION IMMOBILIÈRE DE LOGEMENTS, ADMINISTRATION D AUTRES BIENS IMMOBILIERS, AGENCES IMMOBILIÈRES, LOCATION DE LOGEMENTS\n",
      "\n"
     ]
    }
   ],
   "source": [
    "sector_activity_map = filtered_df.groupby('LIB_SECTEUR_ACTIVITE')['LIB_ACTIVITE'].unique().reset_index()\n",
    "for _, row in sector_activity_map.head().iterrows():\n",
    "    print(f\"Sector:'{row['LIB_SECTEUR_ACTIVITE']}\")\n",
    "    print(f\"Activities:{', '.join(row['LIB_ACTIVITE'])}\\n\")"
   ]
  },
  {
   "cell_type": "code",
   "execution_count": 19,
   "id": "f5aea71e",
   "metadata": {},
   "outputs": [
    {
     "data": {
      "text/plain": [
       "REF_PERSONNE              0\n",
       "RAISON_SOCIALE            0\n",
       "MATRICULE_FISCALE         0\n",
       "LIB_SECTEUR_ACTIVITE      0\n",
       "LIB_ACTIVITE              0\n",
       "VILLE                   373\n",
       "LIB_GOUVERNORAT         424\n",
       "VILLE_GOUVERNORAT         0\n",
       "dtype: int64"
      ]
     },
     "execution_count": 19,
     "metadata": {},
     "output_type": "execute_result"
    }
   ],
   "source": [
    "filtered_df.isna().sum()"
   ]
  },
  {
   "cell_type": "code",
   "execution_count": 20,
   "id": "8f240d65",
   "metadata": {},
   "outputs": [],
   "source": [
    "filtered_df.to_pickle('../../data/clients_morales.pkl')"
   ]
  },
  {
   "cell_type": "code",
   "execution_count": 21,
   "id": "30007cdb",
   "metadata": {},
   "outputs": [
    {
     "data": {
      "text/plain": [
       "Index(['REF_PERSONNE', 'RAISON_SOCIALE', 'MATRICULE_FISCALE',\n",
       "       'LIB_SECTEUR_ACTIVITE', 'LIB_ACTIVITE', 'VILLE', 'LIB_GOUVERNORAT',\n",
       "       'VILLE_GOUVERNORAT'],\n",
       "      dtype='object')"
      ]
     },
     "execution_count": 21,
     "metadata": {},
     "output_type": "execute_result"
    }
   ],
   "source": [
    "filtered_df.columns"
   ]
  },
  {
   "cell_type": "code",
   "execution_count": 24,
   "id": "bfda3c79",
   "metadata": {},
   "outputs": [
    {
     "data": {
      "text/plain": [
       "63"
      ]
     },
     "execution_count": 24,
     "metadata": {},
     "output_type": "execute_result"
    }
   ],
   "source": [
    "filtered_df['LIB_SECTEUR_ACTIVITE'].nunique()"
   ]
  },
  {
   "cell_type": "code",
   "execution_count": 26,
   "id": "5ae2a487",
   "metadata": {},
   "outputs": [
    {
     "data": {
      "text/plain": [
       "['ACTIVITÉS THERMALES ET DE THALASSOTHÉRAPIE',\n",
       " 'FABRICATION D EMBALLAGES EN BOIS',\n",
       " 'CRÉDIT BAIL',\n",
       " 'INSTALLATION D EAU ET DE GAZ',\n",
       " 'BISCOTTERIE, BISCUITERIE, PÂTISSERIE DE CONSERVATION',\n",
       " 'BLANCHISSERIE TEINTURERIE DE DÉTAIL',\n",
       " 'EXTRACTION DE CALCAIRE INDUSTRIEL, DE GYPSE ET DE CRAIE',\n",
       " 'BANQUES',\n",
       " 'COMMERCE DE GROS D ÉQUIPEMENTS AUTOMOBILES',\n",
       " 'AUTRES SERVICES PERSONNELS',\n",
       " 'PRATIQUE MÉDICALE',\n",
       " 'RESTAURATION DE TYPE RAPIDE',\n",
       " 'CULTURE DE CÉRÉALES ; CULTURES INDUSTRIELLES',\n",
       " 'FABRICATION D AUTRES PRODUITS PHARMACEUTIQUES',\n",
       " 'CONSTRUCTION DE BÂTIMENTS DIVERS',\n",
       " 'AUTRES COMMERCES DE DÉTAIL EN MAGASIN NON SPÉCIALISÉ',\n",
       " 'FABRICATION D AUTRES PRODUITS CHIMIQUES INORGANIQUES DE BASE',\n",
       " 'FABRICATION D ALIMENTS ADAPTÉS À L ENFANT ET DIÉTÉTIQUES',\n",
       " 'TRANSPORT DE VOYAGEURS PAR TAXIS',\n",
       " 'AUTRES ACTIVITÉS DE TRAVAIL DES GRAINS',\n",
       " 'FABRICATION DE LAIT LIQUIDE ET DE PRODUITS FRAIS',\n",
       " 'FABRICATION D AUTRES VÊTEMENTS ET ACCESSOIRES',\n",
       " 'HORTICULTURE ; PÉPINIÈRES',\n",
       " 'ÉLEVAGE D OVINS, CAPRINS ET ÉQUIDÉS',\n",
       " 'RECHERCHE DÉVELOPPEMENT EN SCIENCES HUMAINES ET SOCIALES',\n",
       " 'ENNOBLISSEMENT TEXTILE',\n",
       " 'CHASSE',\n",
       " 'CONSTRUCTION DE MAISONS INDIVIDUELLES',\n",
       " 'FABRICATION D APPAREILS SANITAIRES EN CÉRAMIQUE',\n",
       " 'AUTRES COMMERCES DE GROS',\n",
       " 'AUTRES COMMERCES DE GROS DE BIENS DE CONSOMMATION',\n",
       " 'AUTRES SPECTACLES',\n",
       " 'EXPLOITATION FORESTIÈRE',\n",
       " 'TRAVAUX DE FINITION N.C.A.',\n",
       " 'COMMERCE DE GROS DE MATÉRIEL ÉLECTRIQUE ET ÉLECTRONIQUE',\n",
       " 'PRODUCTION D AUTRES BOISSONS FERMENTÉES',\n",
       " 'ASSURANCE VIE ET CAPITALISATION',\n",
       " 'EXTRACTION ET AGGLOMÉRATION DE LA HOUILLE',\n",
       " 'FABRICATION D ARTICLES DE PAPETERIE',\n",
       " 'PÊCHE',\n",
       " 'DÉFENSE',\n",
       " 'FABRICATION DE LINGE DE MAISON ET D ARTICLES D AMEUBLEMENT',\n",
       " 'AGENCES ET BUREAUX',\n",
       " 'QUINCAILLERIES (COMMERCE)',\n",
       " 'INTERMÉDIAIRE DU COMMERCE EN BOIS ET MATÉRIAUX DE CONSTRUCTION',\n",
       " 'AUTRES ACTIVITÉS SPORTIVES',\n",
       " 'INDUSTRIES ALIMENTAIRES N.C.A.',\n",
       " 'INDUSTRIES TEXTILES N.C.A.',\n",
       " 'TÉLÉCOMMUNICATIONS NATIONALES',\n",
       " 'TRAVAUX D INSTALLATION ÉLECTRIQUE',\n",
       " 'AUTRES INTERMÉDIAIRES SPÉCIALISÉS DU COMMERCE',\n",
       " 'INTERMÉDIAIRES NON SPÉCIALISÉS DU COMMERCE',\n",
       " 'ELECTRICITE (COMMERCE D ARTICLES D ECLAIRAGE)',\n",
       " 'AUTRES ACTIVITÉS RÉCRÉATIVES',\n",
       " 'ADMINISTRATION D ENTREPRISES',\n",
       " 'RÉALISATION DE LOGICIELS',\n",
       " 'HYGIENE (ETABLISSEMENT DE BAIN DOUCHE HAMMAM SAUNA)',\n",
       " 'IMPRIMERIE, TYPOGRAPHIES ET OFFSET',\n",
       " 'MÉCANIQUE GÉNÉRALE',\n",
       " 'TRAVAUX DE MAÇONNERIE GÉNÉRALE',\n",
       " 'FABRICATION D AUTRES ARTICLES CONFECTIONNÉS EN TEXTILE',\n",
       " 'AGENCE ( DE VOYAGE,ASSURANCE,IMMOBILIERE)',\n",
       " 'CONSTRUCTION DE MOTEURS POUR AÉRONEFS',\n",
       " 'BANQUE CENTRALE',\n",
       " 'ECOLES, COLLEGES, CENTRE DE FORMATION',\n",
       " 'HÔTELS AVEC RESTAURANT',\n",
       " 'SALLE DE SPECTACLE OU DE FETE',\n",
       " 'CAFÉS TABACS',\n",
       " 'BOULANGERIE AVEC FOURS AU FUEL (SANS FABRICATION DE BISCUITS ET DE GATEAUX SECS)',\n",
       " 'INDUSTRIE ',\n",
       " 'ELECTRICIENS (REPARATION ET VENTE DE FOURNITURES POUR INSTALLATIONS ELECTRIQUE A L EXEPTION DU MATERIEL TRAITE SOUS LA RUBRIQUE -RADIO TV- )',\n",
       " 'COMMERCE DE GROS DE FOURNITURES ET ÉQUIPEMENTS INDUSTRIELS DIVERS',\n",
       " 'AUTRES ENSEIGNEMENTS',\n",
       " 'AGRICULTEURS',\n",
       " 'EXTRACTION DE PIERRES POUR LA CONSTRUCTION',\n",
       " 'SERVICES PORTUAIRES, MARITIMES ET FLUVIAUX',\n",
       " 'PROMOTION IMMOBILIÈRE DE LOGEMENTS',\n",
       " 'ENTRETIEN ET RÉPARATION DE VÉHICULES AUTOMOBILES',\n",
       " 'FABRICATION D ARTICLES MÉTALLIQUES MÉNAGERS',\n",
       " 'AUTRES ACTIVITÉS MANUFACTURIÈRES N.C.A.',\n",
       " 'AUTRES ACTIVITÉS RATTACHÉES À L INFORMATIQUE',\n",
       " 'TRANSPORTS ROUTIERS DE MARCHANDISES INTERURBAINS',\n",
       " 'TECHNICIEN ',\n",
       " 'AUTRES AUXILIAIRES FINANCIERS',\n",
       " 'SERVICE INFORMATIQUE ',\n",
       " 'BOULANGERIE AVEC FOUR ELECTRIQUE',\n",
       " 'SERVICES ANNEXES À LA PRODUCTION',\n",
       " 6701,\n",
       " 'INTERMÉDIATIONS FINANCIÈRES DIVERSES',\n",
       " 'TRANSPORTS ROUTIERS DE MARCHANDISES DE PROXIMITÉ',\n",
       " 'hotel',\n",
       " 'FABRICATION DE COMPOSANTS PASSIFS ET DE CONDENSATEURS',\n",
       " 'ABBATOIRS ET DEPENDANCES(AVEC CHAMBRE FRIGORIFIQUE D UNE CAPACITE < 120 M3)',\n",
       " 'AGENCES, CONSEIL EN PUBLICITÉ',\n",
       " 'TEXTILES',\n",
       " 'ASSURANCE RELEVANT DU CODE DE LA MUTUALITÉ',\n",
       " 'HOTEL',\n",
       " 'ACTIVITÉS HOSPITALIÈRES',\n",
       " 'FABRICATION D ARTICLES DIVERS EN MATIÈRES PLASTIQUES',\n",
       " 'CULTURE DE LÉGUMES ; MARAÎCHAGE',\n",
       " 'VERRERIE, VAISSELLES (MAGASIN DE VENTE)',\n",
       " 'COMMERCE DE GROS DE TEXTILES',\n",
       " 'PHARMACIENS (VENTE EN DETAIL)',\n",
       " 'clinique',\n",
       " 'ENSEIGNEMENT PRIMAIRE',\n",
       " 'ORGANISATIONS ASSOCIATIVES N.C.A.',\n",
       " 'ADMINISTRATION D AUTRES BIENS IMMOBILIERS',\n",
       " 'COMMERCE DE GROS DE PARFUMERIE ET PRODUITS DE BEAUTÉ',\n",
       " 'CONSEIL EN SYSTÈMES INFORMATIQUES',\n",
       " 'COMMERCE DE GROS D HABILLEMENT',\n",
       " 'AUTRES ACTIVITÉS GRAPHIQUES',\n",
       " 'MEDECIN',\n",
       " 'FABRICATION DE MOTEURS ET TURBINES',\n",
       " 'ACTIVITÉS COMPTABLES',\n",
       " 'ARTICLES ARTISANALES ,ANTIQUITE ET SOUVENIR',\n",
       " 'FABRICATION D AUTRES MACHINES OUTILS',\n",
       " 'CHAMBRES FRIGORIFIQUES',\n",
       " 'COMMERCE DE DÉTAIL DE QUINCAILLERIE',\n",
       " 'ACTIVITÉS GÉNÉRALES DE SÉCURITÉ SOCIALE',\n",
       " 'BATIMENTS : ENTREPRENEURS DE MACONNERIE ET DE CONSTRUCTION',\n",
       " 'AGENCES DE VOYAGE',\n",
       " 'VENTE PAR CORRESPONDANCE SUR CATALOGUE GÉNÉRAL',\n",
       " 'ALIMENTATION GENERALE (COMMERCE)',\n",
       " 'AUTRES FORMES D ACTION SOCIALE',\n",
       " 'INSTITUT DE FORMATION',\n",
       " 'LINGE DE MAISON (MAGASIN DE VENTE)',\n",
       " 'FABRICATION D OBJETS DIVERS EN BOIS',\n",
       " 'RESTAURATION DE TYPE TRADITIONNEL',\n",
       " 'MANUTENTION PORTUAIRE',\n",
       " 'MATIERES PLASTIQUES  (COMMERCE D ARTICLES EN)',\n",
       " 'TERRASSEMENTS DIVERS, DÉMOLITION',\n",
       " 'PEINTURE',\n",
       " 'PRODUCTION ET DISTRIBUTION D ÉLECTRICITÉ',\n",
       " 'SERVICES ANNEXES À L ÉLEVAGE',\n",
       " 'AUTRES TRAVAUX SPÉCIALISÉS DE CONSTRUCTION',\n",
       " 'ADMINISTRATION PUBLIQUE GÉNÉRALE',\n",
       " 'ÉLEVAGE D AUTRES ANIMAUX',\n",
       " 'ACTIVITE SPORTIVE',\n",
       " 'FABRICATION DE PÂTE À PAPIER',\n",
       " 'CRÈCHES ET GARDERIES D ENFANTS',\n",
       " 'PRODUCTION DE VIANDES DE BOUCHERIE',\n",
       " 'COMMERCE DE DÉTAIL D ÉQUIPEMENTS AUTOMOBILES',\n",
       " 'ÉDUCATION',\n",
       " 'AGENCES IMMOBILIÈRES',\n",
       " 'ACTIVITÉS DES AUXILIAIRES MÉDICAUX',\n",
       " \"LABORATOIRE D'ANALYSES MEDICALES\",\n",
       " 'AUXILIAIRES D ASSURANCE',\n",
       " 'LABORATOIRES D ANALYSES MÉDICALES',\n",
       " 'CONSTRUCTION DE CHAUSSÉES ROUTIÈRES ET DE SOLS SPORTIFS',\n",
       " 'SCIAGE ET RABOTAGE DU BOIS',\n",
       " 'COMMERCE DE DÉTAIL D APPAREILS ÉLECTROMÉNAGERS ET DE RADIO TÉLÉVISION',\n",
       " 'CONSEIL POUR LES AFFAIRES ET LA GESTION',\n",
       " 'ENTRETIEN, RÉPARATION MACHINES DE BUREAU ET MATÉRIEL INFORMATIQUE',\n",
       " 'TRANSPORTS PAR CONDUITES',\n",
       " 'FABRICATION D INSTRUMENTATION SCIENTIFIQUE ET TECHNIQUE',\n",
       " 'TRANSPORTS FERROVIAIRES',\n",
       " 'FABRICATION D EMBALLAGES EN PAPIER',\n",
       " 'SERVICES DOMESTIQUES',\n",
       " 'FABRICATION DE MEUBLES DE JARDIN ET D EXTÉRIEUR',\n",
       " 'INDUSTRIES CONNEXES DE L AMEUBLEMENT',\n",
       " 'FABRICATION D AUTRES ARTICLES EN CAOUTCHOUC',\n",
       " 'ACTIVITÉS DE BANQUES DE DONNÉES',\n",
       " 'COMMERCE DE VÉHICULES AUTOMOBILES',\n",
       " 'FABRICATION D AUTRES MACHINES SPÉCIALISÉES',\n",
       " 'SÉLECTION ET MISE À DISPOSITION DE PERSONNEL',\n",
       " 'GESTION DE SUPPORTS DE PUBLICITÉ',\n",
       " 'BOULANGERIE ET BOULANGERIE PÂTISSERIE',\n",
       " 'Bureau administratif ',\n",
       " 'ORGANISATION DE FOIRES ET SALONS',\n",
       " 'ÉTUDES DE MARCHÉ ET SONDAGES',\n",
       " 'ÉDITION DE REVUES ET PÉRIODIQUES',\n",
       " 'POSTES NATIONALES',\n",
       " 'FABRICATION D APPAREILS ÉLECTROMÉNAGERS',\n",
       " 'INTERMÉDIAIRE DU COMMERCE EN PRODUITS ALIMENTAIRES',\n",
       " 'COMMERCE DE GROS DE PRODUITS PHARMACEUTIQUES',\n",
       " 'ACTIVITÉS DE NETTOYAGE',\n",
       " 'SOINS DE BEAUTÉ',\n",
       " 'CONDITIONNEMENT À FAÇON',\n",
       " 'COMMERCE DE GROS D APPAREILS ÉLECTROMÉNAGERS ET DE RADIO TÉLÉVISION',\n",
       " 'CONSTRUCTION DE VÉHICULES AUTOMOBILES',\n",
       " 'ÉLEVAGE DE VOLAILLES',\n",
       " 'AUTRE IMPRIMERIE (LABEUR)',\n",
       " 'FABRICATION DE SIÈGES',\n",
       " 'JOUETS, SPORTS CAMPING (MAGASIN DE VENTE)',\n",
       " 'FORMATION DES ADULTES ET FORMATION CONTINUE',\n",
       " 'FABRICATION DE MACHINES DE BUREAU',\n",
       " 'INGÉNIERIE, ÉTUDES TECHNIQUES',\n",
       " 'ENSEIGNEMENT SECONDAIRE GÉNÉRAL',\n",
       " 'RÉASSURANCE',\n",
       " 'ORGANISATIONS PROFESSIONNELLES',\n",
       " 'FABRICATION DE POMPES ET COMPRESSEURS',\n",
       " 'ADMINISTRATION DE MARCHÉS FINANCIERS',\n",
       " 'CULTURE FRUITIÈRE',\n",
       " 'LOCATION DE VÉHICULES AUTOMOBILES',\n",
       " 'ORGANISATIONS PATRONALES ET CONSULAIRES',\n",
       " 'TRANSPORTS AÉRIENS RÉGULIERS',\n",
       " 'ORGANISATION DES TRANSPORTS INTERNATIONAUX',\n",
       " 'Parfumerie',\n",
       " 'FABRICATION D ÉQUIPEMENTS AUTOMOBILES',\n",
       " 'ENSEIGNEMENT SUPÉRIEUR',\n",
       " 'ÉLIMINATION ET TRAITEMENT DES AUTRES DÉCHETS',\n",
       " 'COMMERCE DE GROS DE MACHINES DE BUREAU ET MATÉRIEL INFORMATIQUE',\n",
       " 'FABRICATION DE TUBES EN ACIER',\n",
       " 'EXTRACTION DE MINERAIS DE FER',\n",
       " 'PÂTISSERIE',\n",
       " 'COMMERCE DE GROS DE MACHINES OUTILS',\n",
       " 'COMMERCE DE GROS ALIMENTAIRE NON SPÉCIALISÉ',\n",
       " 'STATION DE SERVICE SANS LAVAGE ET GRAISSAGE',\n",
       " 'INTERMÉDIAIRE DU COMMERCE EN MEUBLES, ARTICLES DE MÉNAGE ET QUINCAILLERIE',\n",
       " 'RESTAURANT, SELF SERVICE ET CANTINE',\n",
       " 'ETABLISSEMENT D ENSEIGNEMENT AVEC MATERIEL INFORMATIQUE',\n",
       " 'CULTURE ET ÉLEVAGE ASSOCIÉS',\n",
       " 'AUTRES ACTIVITÉS DE TÉLÉCOMMUNICATIONS',\n",
       " 'FABRICATION DE FILS ET CÂBLES ISOLÉS',\n",
       " 'FILATURE DE L INDUSTRIE COTONNIÈRE',\n",
       " 'FABRICATION D ACCUMULATEURS ET DE PILES ÉLECTRIQUES',\n",
       " 'ASSURANCE DOMMAGES',\n",
       " 'PREMIÈRE TRANSFORMATION DE L ALUMINIUM',\n",
       " 'OPTIQUE ACOUSTIQUE AVEC VENTE APPAREIL PHOTO (INSTRUMENT DE)',\n",
       " 'BOUCHERIES, VOLAILLES ET POISSONS (MAGASIN DE VENTE AVEC CHAMBRE FRIGORIFIQUE D UNE CAPACITE TOTALE < 120 M3)',\n",
       " 'PISCICULTURE, AQUACULTURE',\n",
       " 'FABRICATION DE CONSTRUCTIONS MÉTALLIQUES',\n",
       " 'TRAVAUX MARITIMES ET FLUVIAUX',\n",
       " 'TRAVAIL TEMPORAIRE',\n",
       " 'FABRICATION DE PRODUITS CHIMIQUES À USAGE INDUSTRIEL',\n",
       " 'COMMERCE DE GROS D AUTRES PRODUITS INTERMÉDIAIRES',\n",
       " 'VOLAILLES, ARTICLES DE FERMES',\n",
       " 'FABRICATION DE PRODUITS CÉRAMIQUES RÉFRACTAIRES',\n",
       " 'INDUSTRIE AGRO ALIMENTAIRE',\n",
       " 'LOCATION D AUTRES MATÉRIELS DE TRANSPORT TERRESTRE',\n",
       " 'AUTRES TRAVAUX D INSTALLATION',\n",
       " 'MANÈGES FORAINS ET PARCS D ATTRACTIONS',\n",
       " 'FABRICATION DE CHAUSSURES',\n",
       " 'ALIMENTATION GENERALE LEGUMES ET FRUITS ',\n",
       " 'FABRICATION DE BRIQUES',\n",
       " 'PRODUCTION DE FILMS POUR LA TÉLÉVISION',\n",
       " 'MATERIEL INFORMATIQUE (VENTE)',\n",
       " 'FABRICATION DE PRODUITS MINÉRAUX NON MÉTALLIQUES N.C.A.',\n",
       " 'FABRICATION MATÉRIEL DISTRIBUTION OU COMMANDE ÉLECTRIQUE BASSE TENSION',\n",
       " 'LOCATION DE LOGEMENTS',\n",
       " 'FABRICATION DE PLAQUES, FEUILLES, TUBES ET PROFILÉS EN PLAST',\n",
       " 'FABRICATION DE MATÉRIEL D IMAGERIE MÉDICALE ET DE RADIOLOGIE',\n",
       " 'CLINIQUES (SANS PRESENCE DE RADIO - ISOTOPE)',\n",
       " 'FONDERIE D ACIER',\n",
       " 'POSTES ET TÉLÉCOMMUNICATIONS',\n",
       " 'FABRICATION D INSTRUMENTS DE MUSIQUE',\n",
       " 'COMMERCE DE GROS FOURNITURES ET ÉQUIPEMENTS DIVERS POUR COMMERCE ET SERVICES',\n",
       " 'FRUITS, PRIMEURS, LEGUMES(MAGASIN DE VENTE)',\n",
       " 'LAVERIE SELF SERVICE AVEC OU SANS SECHOIR',\n",
       " 'APPRÊT ET TANNAGE DES CUIRS',\n",
       " 'FABRICATION DE PETITS ARTICLES MÉTALLIQUES',\n",
       " 'SERVICES AUX CULTURES PRODUCTIVES',\n",
       " 'TRAVAUX DE METAUX(PROFESSION AUTRE QUE CELLE DESIGNEES PAR AILLEURS - AJUSTAGE,ATELIER DE MECANIQUE ET ATELIER DE MONTAGE, CHARPENTE ET CONSTRUCTION METALLIQUE, CHAUDRONNERIE, DECOLLETAGE, DECOUPAGE, EMBOUTISSAGE, ESTAMPAGE, ETIRAGE, FERBLANTERIE, FERRONERIE, FONDERIE, FORGE, SERRURERIE, TOLERIE, TOURNAGE, TREFILERIE, VISSERIE )',\n",
       " 'FABRICATION D ÉLÉMENTS EN MATIÈRES PLASTIQUES POUR LA CONSTRUCTION']"
      ]
     },
     "execution_count": 26,
     "metadata": {},
     "output_type": "execute_result"
    }
   ],
   "source": [
    "filtered_df['LIB_ACTIVITE'].unique().tolist()"
   ]
  },
  {
   "cell_type": "markdown",
   "id": "8173bed7",
   "metadata": {},
   "source": [
    "Grouping Lib_secteur_activite"
   ]
  },
  {
   "cell_type": "code",
   "execution_count": 41,
   "id": "4807609e",
   "metadata": {},
   "outputs": [
    {
     "name": "stderr",
     "output_type": "stream",
     "text": [
      "C:\\Users\\ghass\\AppData\\Local\\Temp\\ipykernel_8308\\2146886543.py:53: SettingWithCopyWarning: \n",
      "A value is trying to be set on a copy of a slice from a DataFrame.\n",
      "Try using .loc[row_indexer,col_indexer] = value instead\n",
      "\n",
      "See the caveats in the documentation: https://pandas.pydata.org/pandas-docs/stable/user_guide/indexing.html#returning-a-view-versus-a-copy\n",
      "  filtered_df['SECTEUR_GROUP'] = filtered_df['LIB_SECTEUR_ACTIVITE'].apply(group_secteur_activite)\n"
     ]
    }
   ],
   "source": [
    "def group_secteur_activite(secteur):\n",
    "    \"\"\"Group sectors into meaningful categories for insurance recommendations\"\"\"\n",
    "    if pd.isna(secteur):\n",
    "        return 'AUTRES_SECTEURS'\n",
    "    \n",
    "    secteur = str(secteur).upper()\n",
    "    \n",
    "    # Primary sectors with high physical risk\n",
    "    if any(word in secteur for word in ['CONSTRUCTION', 'BATIMENT', 'TRAVAIL', 'INDUSTRIE', 'USINE', 'METALLURGIE', \n",
    "                                      'EXTRACTION', 'MINERAIS', 'CHIMIQUE', 'CAOUTCHOUC', 'PLASTIQUES', 'TEXTILE']):\n",
    "        return 'INDUSTRIE_ET_CONSTRUCTION'\n",
    "    \n",
    "    # Transportation and logistics\n",
    "    if any(word in secteur for word in ['TRANSPORT', 'LOGISTIQUE', 'PORTUAIRE', 'AÉRIEN', 'ROUTIER', 'FERROVIAIRE']):\n",
    "        return 'TRANSPORTS_ET_LOGISTIQUE'\n",
    "    \n",
    "    # Commerce and retail\n",
    "    if any(word in secteur for word in ['COMMERCE', 'VENTE', 'DÉTAIL', 'GROS', 'MAGASIN', 'SUPERMARCHÉ']):\n",
    "        return 'COMMERCE_ET_VENTE'\n",
    "    \n",
    "    # Services sector\n",
    "    if any(word in secteur for word in ['SERVICES', 'SERVICE', 'CONSEIL', 'CONSULTING', 'INFORMATIQUE', 'INFORMATIQUES',\n",
    "                                      'IMMOBILIER', 'FINANCIER', 'ASSURANCE', 'BANQUE', 'COMPTABLE', 'JURIDIQUE']):\n",
    "        return 'SERVICES_ET_CONSEIL'\n",
    "    \n",
    "    # Healthcare and social services\n",
    "    if any(word in secteur for word in ['SANTÉ', 'MÉDICAL', 'HÔPITAL', 'CLINIQUE', 'PHARMACEUTIQUE', 'SOCIAL', 'ACTION SOCIALE']):\n",
    "        return 'SANTÉ_ET_SOCIAL'\n",
    "    \n",
    "    # Education and research\n",
    "    if any(word in secteur for word in ['ÉDUCATION', 'ENSEIGNEMENT', 'FORMATION', 'RECHERCHE', 'DÉVELOPPEMENT', 'UNIVERSITÉ']):\n",
    "        return 'EDUCATION_ET_RECHERCHE'\n",
    "    \n",
    "    # Agriculture and natural resources\n",
    "    if any(word in secteur for word in ['AGRICULTURE', 'PÊCHE', 'AQUACULTURE', 'FORESTIER', 'SYLVICULTURE', 'ÉLEVAGE', 'CHASSE']):\n",
    "        return 'AGRICULTURE_ET_RESSOURCES'\n",
    "    \n",
    "    # Hospitality and tourism\n",
    "    if any(word in secteur for word in ['HÔTEL', 'RESTAURANT', 'TOURISME', 'HÔTELLERIE', 'RESTAURATION', 'VOYAGE']):\n",
    "        return 'HOTELLERIE_ET_TOURISME'\n",
    "    \n",
    "    # Public sector and administration\n",
    "    if any(word in secteur for word in ['ADMINISTRATION', 'PUBLIQUE', 'DÉFENSE', 'SÉCURITÉ', 'PUBLIC', 'GOUVERNEMENT']):\n",
    "        return 'ADMINISTRATION_PUBLIQUE'\n",
    "    \n",
    "    # Energy and utilities\n",
    "    if any(word in secteur for word in ['ÉLECTRICITÉ', 'GAZ', 'ÉNERGIE', 'EAU', 'ASSAINISSEMENT', 'UTILITIES']):\n",
    "        return 'ENERGIE_ET_UTILITIES'\n",
    "    \n",
    "    return 'AUTRES_SECTEURS'\n",
    "\n",
    "# Apply the grouping\n",
    "filtered_df['SECTEUR_GROUP'] = filtered_df['LIB_SECTEUR_ACTIVITE'].apply(group_secteur_activite)"
   ]
  },
  {
   "cell_type": "code",
   "execution_count": 42,
   "id": "6b4886c8",
   "metadata": {},
   "outputs": [
    {
     "data": {
      "text/plain": [
       "11"
      ]
     },
     "execution_count": 42,
     "metadata": {},
     "output_type": "execute_result"
    }
   ],
   "source": [
    "filtered_df['SECTEUR_GROUP'].nunique()"
   ]
  },
  {
   "cell_type": "markdown",
   "id": "b0378bbc",
   "metadata": {},
   "source": [
    "Grouping LIB_Activite"
   ]
  },
  {
   "cell_type": "code",
   "execution_count": 43,
   "id": "e9774070",
   "metadata": {},
   "outputs": [
    {
     "name": "stderr",
     "output_type": "stream",
     "text": [
      "C:\\Users\\ghass\\AppData\\Local\\Temp\\ipykernel_8308\\1422878201.py:71: SettingWithCopyWarning: \n",
      "A value is trying to be set on a copy of a slice from a DataFrame.\n",
      "Try using .loc[row_indexer,col_indexer] = value instead\n",
      "\n",
      "See the caveats in the documentation: https://pandas.pydata.org/pandas-docs/stable/user_guide/indexing.html#returning-a-view-versus-a-copy\n",
      "  filtered_df['ACTIVITE_GROUP'] = filtered_df['LIB_ACTIVITE'].apply(group_activite)\n"
     ]
    }
   ],
   "source": [
    "def group_activite(activite):\n",
    "    \"\"\"Group activities into meaningful categories\"\"\"\n",
    "    if pd.isna(activite):\n",
    "        return 'AUTRES_ACTIVITES'\n",
    "    \n",
    "    activite = str(activite).upper()\n",
    "    \n",
    "    # Manufacturing and production\n",
    "    if any(word in activite for word in ['FABRICATION', 'PRODUCTION', 'USINE', 'INDUSTRIE', 'MANUFACTURIER', \n",
    "                                       'ASSEMBLAGE', 'TRANSFORMATION', 'CONDITIONNEMENT']):\n",
    "        return 'PRODUCTION_ET_FABRICATION'\n",
    "    \n",
    "    # Construction and building\n",
    "    if any(word in activite for word in ['CONSTRUCTION', 'BÂTIMENT', 'MAÇONNERIE', 'TERRASSEMENT', 'IMMOBILIER', \n",
    "                                       'PROMOTION', 'TRAVAUX', 'CHANTIER']):\n",
    "        return 'CONSTRUCTION_ET_BTP'\n",
    "    \n",
    "    # Commerce and sales\n",
    "    if any(word in activite for word in ['COMMERCE', 'VENTE', 'MAGASIN', 'DÉTAIL', 'GROS', 'SUPERMARCHÉ', \n",
    "                                       'ALIMENTATION', 'QUINCAILLERIE', 'DISTRIBUTION']):\n",
    "        return 'COMMERCE_ET_DISTRIBUTION'\n",
    "    \n",
    "    # Services and consulting\n",
    "    if any(word in activite for word in ['SERVICE', 'CONSEIL', 'CONSULTING', 'ÉTUDE', 'INGÉNIERIE', 'FORMATION',\n",
    "                                       'COMPTABLE', 'JURIDIQUE', 'CONSEIL', 'ASSISTANCE']):\n",
    "        return 'SERVICES_ET_CONSEIL'\n",
    "    \n",
    "    # Transportation and logistics\n",
    "    if any(word in activite for word in ['TRANSPORT', 'LOGISTIQUE', 'LIVRAISON', 'MANUTENTION', 'PORTUAIRE',\n",
    "                                       'AÉRIEN', 'ROUTIER', 'MARCHANDISES']):\n",
    "        return 'TRANSPORTS_ET_LOGISTIQUE'\n",
    "    \n",
    "    # Healthcare and medical\n",
    "    if any(word in activite for word in ['MÉDICAL', 'SANTÉ', 'HÔPITAL', 'CLINIQUE', 'PHARMACEUTIQUE', 'LABORATOIRE',\n",
    "                                       'SOINS', 'THÉRAPIE', 'MÉDECIN', 'INFIRMIER']):\n",
    "        return 'SANTÉ_ET_MÉDICAL'\n",
    "    \n",
    "    # Finance and insurance\n",
    "    if any(word in activite for word in ['FINANCIER', 'BANQUE', 'ASSURANCE', 'CRÉDIT', 'INVESTISSEMENT', \n",
    "                                       'RÉASSURANCE', 'CAPITALISATION']):\n",
    "        return 'FINANCE_ET_ASSURANCE'\n",
    "    \n",
    "    # Hospitality and food services\n",
    "    if any(word in activite for word in ['HÔTEL', 'RESTAURANT', 'RESTAURATION', 'CAFÉ', 'BAR', 'HÔTELLERIE',\n",
    "                                       'GASTRONOMIE', 'CUISINE', 'BOULANGERIE', 'PÂTISSERIE']):\n",
    "        return 'HOTELLERIE_ET_RESTAURATION'\n",
    "    \n",
    "    # Information technology\n",
    "    if any(word in activite for word in ['INFORMATIQUE', 'LOGICIEL', 'TÉLÉCOMMUNICATION', 'INTERNET', 'DONNÉES',\n",
    "                                       'SYSTÈME', 'RÉSEAU', 'PROGRAMMATION']):\n",
    "        return 'TECHNOLOGIE_ET_INFORMATIQUE'\n",
    "    \n",
    "    # Education and training\n",
    "    if any(word in activite for word in ['ÉDUCATION', 'ENSEIGNEMENT', 'FORMATION', 'ÉCOLE', 'UNIVERSITÉ', \n",
    "                                       'APPRENTISSAGE', 'PÉDAGOGIE']):\n",
    "        return 'EDUCATION_ET_FORMATION'\n",
    "    \n",
    "    # Agriculture and food production\n",
    "    if any(word in activite for word in ['AGRICULTURE', 'ÉLEVAGE', 'CULTURE', 'PÊCHE', 'AQUACULTURE', 'FORESTIER',\n",
    "                                       'MARAÎCHAGE', 'HORTICULTURE', 'VITICULTURE']):\n",
    "        return 'AGRICULTURE_ET_AGROALIMENTAIRE'\n",
    "    \n",
    "    # Public services and administration\n",
    "    if any(word in activite for word in ['ADMINISTRATION', 'PUBLIQUE', 'GOUVERNEMENT', 'DÉFENSE', 'SÉCURITÉ',\n",
    "                                       'POLICE', 'DOUANE', 'FISCAL']):\n",
    "        return 'ADMINISTRATION_PUBLIQUE'\n",
    "    \n",
    "    return 'AUTRES_ACTIVITES'\n",
    "\n",
    "# Apply the grouping\n",
    "filtered_df['ACTIVITE_GROUP'] = filtered_df['LIB_ACTIVITE'].apply(group_activite)"
   ]
  },
  {
   "cell_type": "code",
   "execution_count": 44,
   "id": "c52d46d3",
   "metadata": {},
   "outputs": [
    {
     "data": {
      "text/plain": [
       "13"
      ]
     },
     "execution_count": 44,
     "metadata": {},
     "output_type": "execute_result"
    }
   ],
   "source": [
    "filtered_df['ACTIVITE_GROUP'].nunique()"
   ]
  },
  {
   "cell_type": "code",
   "execution_count": 45,
   "id": "6b34d266",
   "metadata": {},
   "outputs": [
    {
     "data": {
      "text/plain": [
       "Index(['REF_PERSONNE', 'RAISON_SOCIALE', 'MATRICULE_FISCALE',\n",
       "       'LIB_SECTEUR_ACTIVITE', 'LIB_ACTIVITE', 'VILLE', 'LIB_GOUVERNORAT',\n",
       "       'VILLE_GOUVERNORAT', 'SECTEUR_GROUP', 'ACTIVITE_GROUP'],\n",
       "      dtype='object')"
      ]
     },
     "execution_count": 45,
     "metadata": {},
     "output_type": "execute_result"
    }
   ],
   "source": [
    "filtered_df.columns"
   ]
  },
  {
   "cell_type": "markdown",
   "id": "ac5c2b01",
   "metadata": {},
   "source": [
    "Business Client Scoring System"
   ]
  },
  {
   "cell_type": "code",
   "execution_count": null,
   "id": "2eb89149",
   "metadata": {},
   "outputs": [],
   "source": [
    "import numpy as np\n",
    "\n",
    "def calculate_business_client_scores(df_contrats, df_personne_morale):\n",
    "    \n",
    "    # First, group the business sectors and activities\n",
    "    df_personne_morale = create_business_groups(df_personne_morale)\n",
    "    \n",
    "    # Calculate contract-based metrics (same as for individuals)\n",
    "    client_metrics = df_contrats.groupby('REF_PERSONNE').agg(\n",
    "        total_contracts=('NUM_CONTRAT', 'count'),\n",
    "        active_contracts=('LIB_ETAT_CONTRAT', lambda x: (x == 'EN COURS').sum()),\n",
    "        product_variety=('LIB_PRODUIT', 'nunique'),\n",
    "        branch_variety=('branche', 'nunique'),\n",
    "        total_premiums_paid=('somme_quittances', 'sum'),\n",
    "        avg_premium_per_contract=('somme_quittances', 'mean'),\n",
    "        total_capital_assured=('Capital_assure', 'sum'),\n",
    "        paid_ratio=('statut_paiement', lambda x: (x == 'Payé').mean()),\n",
    "        total_paid_contracts=('statut_paiement', lambda x: (x == 'Payé').sum()),\n",
    "        canceled_contracts=('LIB_ETAT_CONTRAT', lambda x: (x == 'RESILIE').sum()),\n",
    "    ).reset_index()\n",
    "\n",
    "    # Calculate component scores\n",
    "    client_metrics['loyalty_score'] = (\n",
    "        (client_metrics['total_contracts'] / client_metrics['total_contracts'].max() * 30) +\n",
    "        (client_metrics['product_variety'] / client_metrics['product_variety'].max() * 25) +\n",
    "        (client_metrics['branch_variety'] / client_metrics['branch_variety'].max() * 20) +\n",
    "        (client_metrics['active_contracts'] / client_metrics['total_contracts'].clip(lower=1) * 25)\n",
    "    )\n",
    "    \n",
    "    client_metrics['financial_score'] = (\n",
    "        (client_metrics['total_premiums_paid'] / client_metrics['total_premiums_paid'].max() * 45) +\n",
    "        (client_metrics['avg_premium_per_contract'] / client_metrics['avg_premium_per_contract'].max() * 30) +\n",
    "        (client_metrics['total_capital_assured'] / client_metrics['total_capital_assured'].max() * 25) \n",
    "    )\n",
    "    \n",
    "    client_metrics['payment_score'] = (\n",
    "        (client_metrics['paid_ratio'] * 40) +\n",
    "        ((1 - client_metrics['canceled_contracts'] / client_metrics['total_contracts'].clip(lower=1)) * 30) +\n",
    "        (client_metrics['total_paid_contracts'] / client_metrics['total_contracts'].clip(lower=1) * 30)\n",
    "    )\n",
    "    \n",
    "    # Normalize scores\n",
    "    for score_col in ['loyalty_score', 'financial_score', 'payment_score']:\n",
    "        client_metrics[score_col] = (\n",
    "            (client_metrics[score_col] - client_metrics[score_col].min()) / \n",
    "            (client_metrics[score_col].max() - client_metrics[score_col].min()) * 100\n",
    "        ).fillna(0)\n",
    "    \n",
    "    # BUSINESS-SPECIFIC SCORING ADJUSTMENTS\n",
    "    # Merge with business profile data\n",
    "    df_scored_business = pd.merge(client_metrics, df_personne_morale, on='REF_PERSONNE', how='left')\n",
    "    \n",
    "    # Adjust scores based on business characteristics\n",
    "    def adjust_business_scores(row):\n",
    "        base_score = (\n",
    "            row['loyalty_score'] * 0.35 +\n",
    "            row['financial_score'] * 0.40 +\n",
    "            row['payment_score'] * 0.25\n",
    "        )\n",
    "        \n",
    "        # Business size adjustment (using capital as proxy)\n",
    "        size_adjustment = 1.0\n",
    "        if row['total_capital_assured'] > 1000000:  # Large business\n",
    "            size_adjustment = 1.2\n",
    "        elif row['total_capital_assured'] > 100000:  # Medium business\n",
    "            size_adjustment = 1.1\n",
    "        \n",
    "        # Risk profile adjustment\n",
    "        risk_adjustment = 1.0\n",
    "        if row['RISK_PROFILE'] == 'HIGH_RISK':\n",
    "            risk_adjustment = 0.9  # Higher risk businesses get slightly lower scores\n",
    "        elif row['RISK_PROFILE'] == 'LOW_RISK':\n",
    "            risk_adjustment = 1.1\n",
    "        \n",
    "        return base_score * size_adjustment * risk_adjustment\n",
    "    \n",
    "    df_scored_business['final_client_score'] = df_scored_business.apply(adjust_business_scores, axis=1).clip(0, 100)\n",
    "    \n",
    "    # Segment business clients\n",
    "    def segment_business_clients(score):\n",
    "        if score >= 85:\n",
    "            return 'Enterprise'\n",
    "        elif score >= 70:\n",
    "            return 'Business'\n",
    "        elif score >= 50:\n",
    "            return 'SME'\n",
    "        elif score >= 30:\n",
    "            return 'Small Business'\n",
    "        else:\n",
    "            return 'Startup'\n",
    "    \n",
    "    df_scored_business['client_segment'] = df_scored_business['final_client_score'].apply(segment_business_clients)\n",
    "    \n",
    "    return df_scored_business\n",
    "\n",
    "# Create business groups function (from previous implementation)\n",
    "def create_business_groups(df_personne_morale):\n",
    "    df = df_personne_morale.copy()\n",
    "    \n",
    "    # Apply grouping functions (simplified version)\n",
    "    def group_secteur(secteur):\n",
    "        secteur = str(secteur).upper()\n",
    "        if any(word in secteur for word in ['CONSTRUCTION', 'INDUSTRIE', 'METALLURGIE', 'EXTRACTION']):\n",
    "            return 'INDUSTRIE_ET_CONSTRUCTION'\n",
    "        elif any(word in secteur for word in ['TRANSPORT', 'LOGISTIQUE']):\n",
    "            return 'TRANSPORTS_ET_LOGISTIQUE'\n",
    "        elif any(word in secteur for word in ['COMMERCE', 'VENTE']):\n",
    "            return 'COMMERCE_ET_VENTE'\n",
    "        elif any(word in secteur for word in ['SERVICES', 'CONSEIL', 'INFORMATIQUE']):\n",
    "            return 'SERVICES_ET_CONSEIL'\n",
    "        elif any(word in secteur for word in ['SANTÉ', 'MÉDICAL']):\n",
    "            return 'SANTÉ_ET_SOCIAL'\n",
    "        elif any(word in secteur for word in ['HÔTEL', 'RESTAURANT']):\n",
    "            return 'HOTELLERIE_ET_TOURISME'\n",
    "        elif any(word in secteur for word in ['AGRICULTURE', 'PÊCHE']):\n",
    "            return 'AGRICULTURE_ET_RESSOURCES'\n",
    "        else:\n",
    "            return 'AUTRES_SECTEURS'\n",
    "    \n",
    "    def group_activite(activite):\n",
    "        activite = str(activite).upper()\n",
    "        if any(word in activite for word in ['FABRICATION', 'PRODUCTION']):\n",
    "            return 'PRODUCTION_ET_FABRICATION'\n",
    "        elif any(word in activite for word in ['CONSTRUCTION', 'BÂTIMENT']):\n",
    "            return 'CONSTRUCTION_ET_BTP'\n",
    "        elif any(word in activite for word in ['COMMERCE', 'VENTE']):\n",
    "            return 'COMMERCE_ET_DISTRIBUTION'\n",
    "        elif any(word in activite for word in ['SERVICE', 'CONSEIL']):\n",
    "            return 'SERVICES_ET_CONSEIL'\n",
    "        elif any(word in activite for word in ['TRANSPORT']):\n",
    "            return 'TRANSPORTS_ET_LOGISTIQUE'\n",
    "        else:\n",
    "            return 'AUTRES_ACTIVITES'\n",
    "    \n",
    "    df['SECTEUR_GROUP'] = df['LIB_SECTEUR_ACTIVITE'].apply(group_secteur)\n",
    "    df['ACTIVITE_GROUP'] = df['LIB_ACTIVITE'].apply(group_activite)\n",
    "    \n",
    "    # Risk profile\n",
    "    def get_risk_profile(secteur_group, activite_group):\n",
    "        high_risk = ['INDUSTRIE_ET_CONSTRUCTION', 'CONSTRUCTION_ET_BTP', 'TRANSPORTS_ET_LOGISTIQUE']\n",
    "        if secteur_group in high_risk or activite_group in high_risk:\n",
    "            return 'HIGH_RISK'\n",
    "        elif secteur_group in ['COMMERCE_ET_VENTE', 'AGRICULTURE_ET_RESSOURCES']:\n",
    "            return 'MEDIUM_RISK'\n",
    "        else:\n",
    "            return 'LOW_RISK'\n",
    "    \n",
    "    df['RISK_PROFILE'] = df.apply(lambda x: get_risk_profile(x['SECTEUR_GROUP'], x['ACTIVITE_GROUP']), axis=1)\n",
    "    \n",
    "    return df"
   ]
  },
  {
   "cell_type": "markdown",
   "id": "5ed7380c",
   "metadata": {},
   "source": [
    "Business recommendation function"
   ]
  },
  {
   "cell_type": "code",
   "execution_count": null,
   "id": "a64acd00",
   "metadata": {},
   "outputs": [],
   "source": [
    "def recommend_business_insurance(client_row, df_contrats, df_products):\n",
    "    \n",
    "    client_id = client_row['REF_PERSONNE']\n",
    "    client_contracts = df_contrats[df_contrats['REF_PERSONNE'] == client_id]\n",
    "    existing_products = set(client_contracts['LIB_PRODUIT'].unique())\n",
    "    \n",
    "    # Get client's existing categories\n",
    "    client_portfolio = client_contracts.merge(df_products, on='LIB_PRODUIT', how='left')\n",
    "    existing_categories = set(client_portfolio['LIB_SOUS_BRANCHE'].dropna().unique())\n",
    "    \n",
    "    # Calculate budget\n",
    "    total_premiums = client_contracts['somme_quittances'].sum()\n",
    "    estimated_budget = max(total_premiums * 1.5, 1000)  # Higher minimum for businesses\n",
    "    \n",
    "    # DETERMINE BUSINESS INSURANCE NEEDS\n",
    "    priority_categories = []\n",
    "    \n",
    "    # Universal business needs\n",
    "    base_business_needs = ['RESPONSABILITE CIVILE', 'INCENDIE RISQUES SIMPLE', 'VOL TOUTE CATEGORIES']\n",
    "    priority_categories.extend(base_business_needs)\n",
    "    \n",
    "    # Risk-based needs\n",
    "    risk_profile = client_row.get('RISK_PROFILE', 'MEDIUM_RISK')\n",
    "    if risk_profile == 'HIGH_RISK':\n",
    "        priority_categories.extend(['INDIVIDUELLE ACCIDENTS', 'TOUS RISQUES CHANTIER', 'BRIS DE MACHINES'])\n",
    "    elif risk_profile == 'MEDIUM_RISK':\n",
    "        priority_categories.extend(['INDIVIDUELLE ACCIDENTS', 'DEGATS DES EAUX'])\n",
    "    \n",
    "    # Sector-specific needs\n",
    "    secteur_group = client_row.get('SECTEUR_GROUP', '')\n",
    "    activite_group = client_row.get('ACTIVITE_GROUP', '')\n",
    "    \n",
    "    if secteur_group == 'TRANSPORTS_ET_LOGISTIQUE':\n",
    "        priority_categories.extend(['TRANSPORT FACULTE TERRESTRE', 'ASSISTANCE DES VEHICULES'])\n",
    "    elif secteur_group == 'SANTÉ_ET_SOCIAL':\n",
    "        priority_categories.extend(['R.C MEDECIN', 'R.C PARAMEDICALE'])\n",
    "    elif secteur_group == 'COMMERCE_ET_VENTE':\n",
    "        priority_categories.extend(['VOL AVEC EFFRACTION DES MARCHANDISES', 'DEGATS DES EAUX'])\n",
    "    elif secteur_group == 'HOTELLERIE_ET_TOURISME':\n",
    "        priority_categories.extend(['MULTIRISQUE HOTELIER', 'ASSISTANCE EN VOYAGES'])\n",
    "    elif secteur_group == 'INDUSTRIE_ET_CONSTRUCTION':\n",
    "        priority_categories.extend(['BRIS DE MACHINES', 'TOUS RISQUES CHANTIER', 'RESPONSABILITE DECENNALE'])\n",
    "    elif secteur_group == 'AGRICULTURE_ET_RESSOURCES':\n",
    "        priority_categories.extend(['INCENDIE RISQUES AGRICOLES', 'INDIVIDUELLE ACCIDENTS'])\n",
    "    \n",
    "    # Size-based needs (using capital as proxy)\n",
    "    total_capital = client_row.get('total_capital_assured', 0)\n",
    "    if total_capital > 500000:  # Large business\n",
    "        priority_categories.extend(['PERTES D EXPLOITATIONS APRES INCENDIE', 'MULTIRISQUES PROFESSIONNELLES'])\n",
    "    \n",
    "    # Remove existing categories\n",
    "    priority_categories = list(set(priority_categories) - existing_categories)\n",
    "    \n",
    "    if not priority_categories:\n",
    "        return []\n",
    "    \n",
    "    # SELECT PRODUCTS FROM PRIORITY CATEGORIES\n",
    "    recommended_products = []\n",
    "    \n",
    "    # Business product priority mapping\n",
    "    business_product_priority = {\n",
    "        'RESPONSABILITE CIVILE': ['RC ENTREPRISE DE BATIMENT ET TRAVAUX PUBLIC', 'RC ARTISANTS ET COMMERCANTS', \n",
    "                                 'RC HOTELIERS', 'R.C PARTICULIER-CHEF DE FAMILLE- MAITRE DE MAISON'],\n",
    "        'INCENDIE RISQUES SIMPLE': ['INCENDIE RISQUES SIMPLE', 'INCENDIE RISQUES SIMPLE CENTRALISE'],\n",
    "        'VOL TOUTE CATEGORIES': ['VOL TOUTE CATEGORIES', 'VOL AVEC EFFRACTION DES MARCHANDISES DE TOUTE NATURE'],\n",
    "        'INDIVIDUELLE ACCIDENTS': ['INDIVIDUELLE ACCIDENTS', 'INDIVIDUELLE ACCIDENTS ASSOCIE AU CONTRAT AUTO'],\n",
    "        'TOUS RISQUES CHANTIER': ['TOUS RISQUES CHANTIER'],\n",
    "        'BRIS DE MACHINES': ['BRIS DE MACHINES'],\n",
    "        'DEGATS DES EAUX': ['DEGATS DES EAUX'],\n",
    "        'TRANSPORT FACULTE TERRESTRE': ['POLICE AU VOYAGE(FACULTE TERRESTRE)', 'POLICE ABONNEMENT(FACULTE TERRESTRE)'],\n",
    "        'ASSISTANCE DES VEHICULES': ['ASSISTANCE DES VEHICULES'],\n",
    "        'R.C MEDECIN': ['R.C MEDECIN'],\n",
    "        'R.C PARAMEDICALE': ['R.C PARAMEDICALE'],\n",
    "        'MULTIRISQUE HOTELIER': ['MULTIRISQUE HOTELIER'],\n",
    "        'ASSISTANCE EN VOYAGES': ['ASSISTANCES EN VOYAGES - PLAN BUSINESS', 'ASSISTANCES EN VOYAGES - PLAN GOLDEN'],\n",
    "        'RESPONSABILITE DECENNALE': ['RESPONSABILITE DECENNALE'],\n",
    "        'INCENDIE RISQUES AGRICOLES': ['INCENDIE RISQUES AGRICOLES'],\n",
    "        'PERTES D EXPLOITATIONS APRES INCENDIE': ['PERTES D EXPLOITATION APRES INCENDIE'],\n",
    "        'MULTIRISQUES PROFESSIONNELLES': ['MULTIRISQUES PROFESSIONNELLES', 'MULTIRISQUES PROFESSIONNELLES CENTRALISE']\n",
    "    }\n",
    "    \n",
    "    # Get top 2 priority categories\n",
    "    top_categories = priority_categories[:2]\n",
    "    \n",
    "    for category in top_categories:\n",
    "        if category in business_product_priority:\n",
    "            available_products = df_products[df_products['LIB_SOUS_BRANCHE'] == category]['LIB_PRODUIT'].unique()\n",
    "            \n",
    "            # Try to get priority products for this category\n",
    "            for priority_product in business_product_priority[category]:\n",
    "                if priority_product in available_products and priority_product not in existing_products:\n",
    "                    recommended_products.append(priority_product)\n",
    "                    break\n",
    "            else:\n",
    "                # If no priority product found, take the first available\n",
    "                if len(available_products) > 0 and available_products[0] not in existing_products:\n",
    "                    recommended_products.append(available_products[0])\n",
    "    \n",
    "    return recommended_products[:2]  # Return max 2 products"
   ]
  },
  {
   "cell_type": "markdown",
   "id": "9e380eba",
   "metadata": {},
   "source": [
    "Complete endpoint for business clients"
   ]
  },
  {
   "cell_type": "code",
   "execution_count": null,
   "id": "739c9dfa",
   "metadata": {},
   "outputs": [],
   "source": [
    "def business_recommendation_pipeline(df_contrats, df_personne_morale, df_products):\n",
    "\n",
    "    business_client_ids = df_personne_morale['REF_PERSONNE'].unique()\n",
    "    df_business_contrats = df_contrats[df_contrats['REF_PERSONNE'].isin(business_client_ids)]\n",
    "    # Step 1: Calculate business client scores\n",
    "    print(\"Calculating business client scores...\")\n",
    "    df_scored_business = calculate_business_client_scores(df_business_contrats, df_personne_morale)\n",
    "    \n",
    "    # Step 2: Generate recommendations\n",
    "    print(\"Generating business recommendations...\")\n",
    "    recommendations = []\n",
    "    \n",
    "    for _, client_row in df_scored_business.iterrows():\n",
    "        client_recommendations = recommend_business_insurance(client_row, df_contrats, df_products)\n",
    "        \n",
    "        recommendations.append({\n",
    "            'REF_PERSONNE': client_row['REF_PERSONNE'],\n",
    "            'RAISON_SOCIALE': client_row.get('RAISON_SOCIALE', ''),\n",
    "            'SECTEUR_GROUP': client_row.get('SECTEUR_GROUP', ''),\n",
    "            'ACTIVITE_GROUP': client_row.get('ACTIVITE_GROUP', ''),\n",
    "            'RISK_PROFILE': client_row.get('RISK_PROFILE', ''),\n",
    "            'recommended_products': client_recommendations,\n",
    "            'recommendation_count': len(client_recommendations),\n",
    "            'client_score': client_row.get('final_client_score', 0),\n",
    "            'client_segment': client_row.get('client_segment', ''),\n",
    "            'total_premiums_paid': client_row.get('total_premiums_paid', 0),\n",
    "            'total_capital_assured': client_row.get('total_capital_assured', 0)\n",
    "        })\n",
    "    \n",
    "    df_recommendations = pd.DataFrame(recommendations)\n",
    "    \n",
    "    # Step 3: Analysis and reporting\n",
    "    print(\"\\nBusiness Recommendation Summary:\")\n",
    "    print(f\"Total businesses processed: {len(df_scored_business)}\")\n",
    "    print(f\"Businesses with recommendations: {(df_recommendations['recommendation_count'] > 0).sum()}\")\n",
    "    print(f\"Average business score: {df_recommendations['client_score'].mean():.2f}\")\n",
    "    \n",
    "    print(\"\\nBusiness Segment Distribution:\")\n",
    "    print(df_recommendations['client_segment'].value_counts())\n",
    "    \n",
    "    print(\"\\nRisk Profile Distribution:\")\n",
    "    print(df_recommendations['RISK_PROFILE'].value_counts())\n",
    "    \n",
    "    print(\"\\nTop Recommended Products:\")\n",
    "    top_products = df_recommendations.explode('recommended_products')['recommended_products'].value_counts().head(5)\n",
    "    for product, count in top_products.items():\n",
    "        print(f\"  - {product}: {count} recommendations\")\n",
    "    \n",
    "    return df_recommendations"
   ]
  },
  {
   "cell_type": "code",
   "execution_count": 54,
   "id": "f1b0f5a8",
   "metadata": {},
   "outputs": [],
   "source": [
    "df_contrats = pd.read_pickle('../../data/contrats.pkl')\n",
    "df_personne_morale = filtered_df.copy()\n",
    "df_products = pd.read_excel('../../data/Donn_es_Assurance_S2.1.xlsx',sheet_name='Mapping_Produits')"
   ]
  },
  {
   "cell_type": "code",
   "execution_count": 58,
   "id": "58a79f8a",
   "metadata": {},
   "outputs": [
    {
     "name": "stdout",
     "output_type": "stream",
     "text": [
      "Calculating business client scores...\n",
      "Generating business recommendations...\n",
      "\n",
      "Business Recommendation Summary:\n",
      "Total businesses processed: 437\n",
      "Businesses with recommendations: 436\n",
      "Average business score: 22.67\n",
      "\n",
      "Business Segment Distribution:\n",
      "client_segment\n",
      "Startup           311\n",
      "Small Business    112\n",
      "SME                10\n",
      "Enterprise          3\n",
      "Business            1\n",
      "Name: count, dtype: int64\n",
      "\n",
      "Risk Profile Distribution:\n",
      "RISK_PROFILE\n",
      "LOW_RISK       249\n",
      "HIGH_RISK      130\n",
      "MEDIUM_RISK     58\n",
      "Name: count, dtype: int64\n",
      "\n",
      "Top Recommended Products:\n",
      "  - RC ENTREPRISE DE BATIMENT ET TRAVAUX PUBLIC: 384 recommendations\n",
      "  - INCENDIE RISQUES SIMPLE: 218 recommendations\n",
      "  - POLICE AU VOYAGE(FACULTE TERRESTRE): 29 recommendations\n",
      "  - TOUS RISQUES CHANTIER: 14 recommendations\n",
      "  - MULTIRISQUES PROFESSIONNELLES: 12 recommendations\n"
     ]
    }
   ],
   "source": [
    "df_business_recommendations = business_recommendation_pipeline(df_contrats, df_personne_morale, df_products)"
   ]
  },
  {
   "cell_type": "code",
   "execution_count": 56,
   "id": "129c2124",
   "metadata": {},
   "outputs": [
    {
     "data": {
      "text/plain": [
       "(437, 11)"
      ]
     },
     "execution_count": 56,
     "metadata": {},
     "output_type": "execute_result"
    }
   ],
   "source": [
    "df_business_recommendations.shape"
   ]
  },
  {
   "cell_type": "code",
   "execution_count": 57,
   "id": "c0c0e223",
   "metadata": {},
   "outputs": [
    {
     "data": {
      "text/html": [
       "<div>\n",
       "<style scoped>\n",
       "    .dataframe tbody tr th:only-of-type {\n",
       "        vertical-align: middle;\n",
       "    }\n",
       "\n",
       "    .dataframe tbody tr th {\n",
       "        vertical-align: top;\n",
       "    }\n",
       "\n",
       "    .dataframe thead th {\n",
       "        text-align: right;\n",
       "    }\n",
       "</style>\n",
       "<table border=\"1\" class=\"dataframe\">\n",
       "  <thead>\n",
       "    <tr style=\"text-align: right;\">\n",
       "      <th></th>\n",
       "      <th>REF_PERSONNE</th>\n",
       "      <th>RAISON_SOCIALE</th>\n",
       "      <th>SECTEUR_GROUP</th>\n",
       "      <th>ACTIVITE_GROUP</th>\n",
       "      <th>RISK_PROFILE</th>\n",
       "      <th>recommended_products</th>\n",
       "      <th>recommendation_count</th>\n",
       "      <th>client_score</th>\n",
       "      <th>client_segment</th>\n",
       "      <th>total_premiums_paid</th>\n",
       "      <th>total_capital_assured</th>\n",
       "    </tr>\n",
       "  </thead>\n",
       "  <tbody>\n",
       "    <tr>\n",
       "      <th>0</th>\n",
       "      <td>6958</td>\n",
       "      <td>Societe_000011</td>\n",
       "      <td>COMMERCE_ET_VENTE</td>\n",
       "      <td>COMMERCE_ET_DISTRIBUTION</td>\n",
       "      <td>MEDIUM_RISK</td>\n",
       "      <td>[RC ENTREPRISE DE BATIMENT ET TRAVAUX PUBLIC, ...</td>\n",
       "      <td>2</td>\n",
       "      <td>23.770715</td>\n",
       "      <td>Startup</td>\n",
       "      <td>5.130000e+02</td>\n",
       "      <td>1.200000e+04</td>\n",
       "    </tr>\n",
       "    <tr>\n",
       "      <th>1</th>\n",
       "      <td>11062</td>\n",
       "      <td>Societe_000744</td>\n",
       "      <td>AUTRES_SECTEURS</td>\n",
       "      <td>AUTRES_ACTIVITES</td>\n",
       "      <td>LOW_RISK</td>\n",
       "      <td>[RC ENTREPRISE DE BATIMENT ET TRAVAUX PUBLIC]</td>\n",
       "      <td>1</td>\n",
       "      <td>27.500238</td>\n",
       "      <td>Startup</td>\n",
       "      <td>2.357175e+03</td>\n",
       "      <td>1.880000e+04</td>\n",
       "    </tr>\n",
       "    <tr>\n",
       "      <th>2</th>\n",
       "      <td>12068</td>\n",
       "      <td>Societe_000012</td>\n",
       "      <td>SERVICES_ET_CONSEIL</td>\n",
       "      <td>SERVICES_ET_CONSEIL</td>\n",
       "      <td>LOW_RISK</td>\n",
       "      <td>[RC ENTREPRISE DE BATIMENT ET TRAVAUX PUBLIC]</td>\n",
       "      <td>1</td>\n",
       "      <td>43.648254</td>\n",
       "      <td>Small Business</td>\n",
       "      <td>7.604180e+03</td>\n",
       "      <td>2.950000e+04</td>\n",
       "    </tr>\n",
       "    <tr>\n",
       "      <th>3</th>\n",
       "      <td>12112</td>\n",
       "      <td>Societe_000743</td>\n",
       "      <td>AUTRES_SECTEURS</td>\n",
       "      <td>AUTRES_ACTIVITES</td>\n",
       "      <td>LOW_RISK</td>\n",
       "      <td>[PERTES D EXPLOITATION APRES  INCENDIE]</td>\n",
       "      <td>1</td>\n",
       "      <td>81.172363</td>\n",
       "      <td>Business</td>\n",
       "      <td>4.077677e+06</td>\n",
       "      <td>2.393922e+07</td>\n",
       "    </tr>\n",
       "    <tr>\n",
       "      <th>4</th>\n",
       "      <td>12122</td>\n",
       "      <td>Societe_000001</td>\n",
       "      <td>SERVICES_ET_CONSEIL</td>\n",
       "      <td>AUTRES_ACTIVITES</td>\n",
       "      <td>LOW_RISK</td>\n",
       "      <td>[RC ENTREPRISE DE BATIMENT ET TRAVAUX PUBLIC]</td>\n",
       "      <td>1</td>\n",
       "      <td>0.000516</td>\n",
       "      <td>Startup</td>\n",
       "      <td>5.106297e+03</td>\n",
       "      <td>2.210000e+04</td>\n",
       "    </tr>\n",
       "  </tbody>\n",
       "</table>\n",
       "</div>"
      ],
      "text/plain": [
       "   REF_PERSONNE  RAISON_SOCIALE        SECTEUR_GROUP  \\\n",
       "0          6958  Societe_000011    COMMERCE_ET_VENTE   \n",
       "1         11062  Societe_000744      AUTRES_SECTEURS   \n",
       "2         12068  Societe_000012  SERVICES_ET_CONSEIL   \n",
       "3         12112  Societe_000743      AUTRES_SECTEURS   \n",
       "4         12122  Societe_000001  SERVICES_ET_CONSEIL   \n",
       "\n",
       "             ACTIVITE_GROUP RISK_PROFILE  \\\n",
       "0  COMMERCE_ET_DISTRIBUTION  MEDIUM_RISK   \n",
       "1          AUTRES_ACTIVITES     LOW_RISK   \n",
       "2       SERVICES_ET_CONSEIL     LOW_RISK   \n",
       "3          AUTRES_ACTIVITES     LOW_RISK   \n",
       "4          AUTRES_ACTIVITES     LOW_RISK   \n",
       "\n",
       "                                recommended_products  recommendation_count  \\\n",
       "0  [RC ENTREPRISE DE BATIMENT ET TRAVAUX PUBLIC, ...                     2   \n",
       "1      [RC ENTREPRISE DE BATIMENT ET TRAVAUX PUBLIC]                     1   \n",
       "2      [RC ENTREPRISE DE BATIMENT ET TRAVAUX PUBLIC]                     1   \n",
       "3            [PERTES D EXPLOITATION APRES  INCENDIE]                     1   \n",
       "4      [RC ENTREPRISE DE BATIMENT ET TRAVAUX PUBLIC]                     1   \n",
       "\n",
       "   client_score  client_segment  total_premiums_paid  total_capital_assured  \n",
       "0     23.770715         Startup         5.130000e+02           1.200000e+04  \n",
       "1     27.500238         Startup         2.357175e+03           1.880000e+04  \n",
       "2     43.648254  Small Business         7.604180e+03           2.950000e+04  \n",
       "3     81.172363        Business         4.077677e+06           2.393922e+07  \n",
       "4      0.000516         Startup         5.106297e+03           2.210000e+04  "
      ]
     },
     "execution_count": 57,
     "metadata": {},
     "output_type": "execute_result"
    }
   ],
   "source": [
    "df_business_recommendations.head()"
   ]
  }
 ],
 "metadata": {
  "kernelspec": {
   "display_name": "venv",
   "language": "python",
   "name": "python3"
  },
  "language_info": {
   "codemirror_mode": {
    "name": "ipython",
    "version": 3
   },
   "file_extension": ".py",
   "mimetype": "text/x-python",
   "name": "python",
   "nbconvert_exporter": "python",
   "pygments_lexer": "ipython3",
   "version": "3.10.0"
  }
 },
 "nbformat": 4,
 "nbformat_minor": 5
}
