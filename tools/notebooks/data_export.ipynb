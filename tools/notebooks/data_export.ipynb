{
 "cells": [
  {
   "cell_type": "code",
   "execution_count": 2,
   "id": "1338fb59",
   "metadata": {},
   "outputs": [],
   "source": [
    "import pandas as pd"
   ]
  },
  {
   "cell_type": "code",
   "execution_count": 3,
   "id": "04d71289",
   "metadata": {},
   "outputs": [],
   "source": [
    "df_contrats = pd.read_pickle('../data/contrats.pkl')"
   ]
  },
  {
   "cell_type": "code",
   "execution_count": 4,
   "id": "b20d654e",
   "metadata": {},
   "outputs": [],
   "source": [
    "df_clients_phy = pd.read_pickle('../data/clients_phy.pkl')\n",
    "df_clients_morales = pd.read_pickle('../data/clients_morales.pkl')\n",
    "df_sinistres = pd.read_excel('../data/Données_Assurance_S1.2_S2.2.xlsx',sheet_name='sinistres')\n",
    "df_products = pd.read_excel('../data/Données_Assurance_S1.2_S2.2.xlsx',sheet_name='Mapping_Produits')"
   ]
  },
  {
   "cell_type": "code",
   "execution_count": 5,
   "id": "a0bdf4ad",
   "metadata": {},
   "outputs": [],
   "source": [
    "df_contrats.to_parquet('../../../data/raw/contrats.parquet',engine='fastparquet')"
   ]
  },
  {
   "cell_type": "code",
   "execution_count": 14,
   "id": "3d8ba866",
   "metadata": {},
   "outputs": [
    {
     "name": "stdout",
     "output_type": "stream",
     "text": [
      "Object columns: ['NOM_PRENOM', 'LIEU_NAISSANCE', 'CODE_SEXE', 'SITUATION_FAMILIALE', 'LIB_SECTEUR_ACTIVITE', 'LIB_PROFESSION', 'VILLE', 'LIB_GOUVERNORAT', 'VILLE_GOUVERNORAT', 'SECTEUR_ACTIVITE_GROUP', 'PROFESSION_GROUP']\n"
     ]
    }
   ],
   "source": [
    "# Check all object/string columns\n",
    "object_columns = df_clients_phy.select_dtypes(include=['object']).columns\n",
    "print(\"Object columns:\", object_columns.tolist())\n",
    "\n",
    "# Convert all object columns to string and handle missing values\n",
    "for col in object_columns:\n",
    "    df_clients_phy[col] = df_clients_phy[col].astype(str)\n",
    "    df_clients_phy[col] = df_clients_phy[col].fillna('')\n",
    "\n",
    "# Save the file\n",
    "df_clients_phy.to_parquet('../../../data/raw/clients.parquet', engine='pyarrow')"
   ]
  },
  {
   "cell_type": "code",
   "execution_count": 16,
   "id": "5ba096a8",
   "metadata": {},
   "outputs": [
    {
     "name": "stdout",
     "output_type": "stream",
     "text": [
      "Object columns: ['RAISON_SOCIALE', 'MATRICULE_FISCALE', 'LIB_SECTEUR_ACTIVITE', 'LIB_ACTIVITE', 'VILLE', 'LIB_GOUVERNORAT', 'VILLE_GOUVERNORAT']\n"
     ]
    }
   ],
   "source": [
    "# Check all object/string columns\n",
    "object_columns = df_clients_morales.select_dtypes(include=['object']).columns\n",
    "print(\"Object columns:\", object_columns.tolist())\n",
    "\n",
    "# Convert all object columns to string and handle missing values\n",
    "for col in object_columns:\n",
    "    df_clients_morales[col] = df_clients_morales[col].astype(str)\n",
    "    df_clients_morales[col] = df_clients_morales[col].fillna('')\n",
    "\n",
    "# Save the file\n",
    "df_clients_morales.to_parquet('../../../data/raw/businesses.parquet', engine='pyarrow')"
   ]
  },
  {
   "cell_type": "code",
   "execution_count": 18,
   "id": "7b6c7452",
   "metadata": {},
   "outputs": [
    {
     "name": "stdout",
     "output_type": "stream",
     "text": [
      "Object columns: ['LIB_BRANCHE', 'LIB_SOUS_BRANCHE', 'LIB_PRODUIT', 'NATURE_SINISTRE', 'LIB_TYPE_SINISTRE', 'DATE_SURVENANCE', 'DATE_DECLARATION', 'DATE_OUVERTURE', 'OBSERVATION_SINISTRE', 'LIB_ETAT_SINISTRE', 'LIEU_ACCIDENT', 'MOTIF_REOUVERTURE']\n"
     ]
    }
   ],
   "source": [
    "# Check all object/string columns\n",
    "object_columns = df_sinistres.select_dtypes(include=['object']).columns\n",
    "print(\"Object columns:\", object_columns.tolist())\n",
    "\n",
    "# Convert all object columns to string and handle missing values\n",
    "for col in object_columns:\n",
    "    df_sinistres[col] = df_sinistres[col].astype(str)\n",
    "    df_sinistres[col] = df_sinistres[col].fillna('')\n",
    "\n",
    "# Save the file\n",
    "df_sinistres.to_parquet('../../../data/raw/claims.parquet', engine='pyarrow')"
   ]
  },
  {
   "cell_type": "code",
   "execution_count": 19,
   "id": "f7c5c254",
   "metadata": {},
   "outputs": [],
   "source": [
    "df_products.to_parquet('../../../data/raw/products.parquet', engine='pyarrow')"
   ]
  }
 ],
 "metadata": {
  "kernelspec": {
   "display_name": "venv",
   "language": "python",
   "name": "python3"
  },
  "language_info": {
   "codemirror_mode": {
    "name": "ipython",
    "version": 3
   },
   "file_extension": ".py",
   "mimetype": "text/x-python",
   "name": "python",
   "nbconvert_exporter": "python",
   "pygments_lexer": "ipython3",
   "version": "3.10.0"
  }
 },
 "nbformat": 4,
 "nbformat_minor": 5
}
