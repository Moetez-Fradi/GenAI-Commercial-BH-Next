{
 "cells": [
  {
   "cell_type": "code",
   "execution_count": 49,
   "id": "ebbb9991",
   "metadata": {},
   "outputs": [],
   "source": [
    "import pandas as pd\n",
    "import seaborn as sns\n",
    "import matplotlib.pyplot as plt\n",
    "%matplotlib inline"
   ]
  },
  {
   "cell_type": "code",
   "execution_count": 2,
   "id": "ff622881",
   "metadata": {},
   "outputs": [],
   "source": [
    "df = pd.read_excel('../../data/Donn_es_Assurance_S2.1.xlsx',sheet_name='personne_morale')"
   ]
  },
  {
   "cell_type": "markdown",
   "id": "80c19a01",
   "metadata": {},
   "source": [
    "dataframe shape"
   ]
  },
  {
   "cell_type": "code",
   "execution_count": 3,
   "id": "792c0a5f",
   "metadata": {},
   "outputs": [
    {
     "data": {
      "text/plain": [
       "(747, 8)"
      ]
     },
     "execution_count": 3,
     "metadata": {},
     "output_type": "execute_result"
    }
   ],
   "source": [
    "df.shape"
   ]
  },
  {
   "cell_type": "markdown",
   "id": "88133b86",
   "metadata": {},
   "source": [
    "checking for duplicates"
   ]
  },
  {
   "cell_type": "code",
   "execution_count": 4,
   "id": "4db1ff27",
   "metadata": {},
   "outputs": [
    {
     "data": {
      "text/plain": [
       "np.int64(0)"
      ]
     },
     "execution_count": 4,
     "metadata": {},
     "output_type": "execute_result"
    }
   ],
   "source": [
    "df.duplicated().sum()"
   ]
  },
  {
   "cell_type": "markdown",
   "id": "7dd69ebb",
   "metadata": {},
   "source": [
    "checking for missing values"
   ]
  },
  {
   "cell_type": "code",
   "execution_count": 5,
   "id": "b5a9188e",
   "metadata": {},
   "outputs": [
    {
     "data": {
      "text/plain": [
       "REF_PERSONNE              0\n",
       "RAISON_SOCIALE            0\n",
       "MATRICULE_FISCALE         0\n",
       "LIB_SECTEUR_ACTIVITE      0\n",
       "LIB_ACTIVITE              8\n",
       "VILLE                   427\n",
       "LIB_GOUVERNORAT         481\n",
       "VILLE_GOUVERNORAT         0\n",
       "dtype: int64"
      ]
     },
     "execution_count": 5,
     "metadata": {},
     "output_type": "execute_result"
    }
   ],
   "source": [
    "df.isna().sum()"
   ]
  },
  {
   "cell_type": "markdown",
   "id": "94efaffe",
   "metadata": {},
   "source": [
    "Missing values in VILLE and LIB_GOUVERNORAT generally does not affect our recommendation system."
   ]
  },
  {
   "cell_type": "code",
   "execution_count": 6,
   "id": "886292f0",
   "metadata": {},
   "outputs": [
    {
     "data": {
      "text/plain": [
       "REF_PERSONNE            747\n",
       "RAISON_SOCIALE          747\n",
       "MATRICULE_FISCALE       747\n",
       "LIB_SECTEUR_ACTIVITE     61\n",
       "LIB_ACTIVITE            251\n",
       "VILLE                   159\n",
       "LIB_GOUVERNORAT          19\n",
       "VILLE_GOUVERNORAT       167\n",
       "dtype: int64"
      ]
     },
     "execution_count": 6,
     "metadata": {},
     "output_type": "execute_result"
    }
   ],
   "source": [
    "df.nunique()"
   ]
  },
  {
   "cell_type": "markdown",
   "id": "2f597043",
   "metadata": {},
   "source": [
    "* REF_PERSONNE, RAISON_SOCIALE, MATRICULE_FISCALE can be considered as unique identifiers\n",
    "* we have 61 unique LIB_SECTEUR_ACTIVITE and 251 LIB_ACTIVITE (we need to check if some categories are well encoded)\n"
   ]
  },
  {
   "cell_type": "markdown",
   "id": "8d696bb5",
   "metadata": {},
   "source": [
    "Columns dtypes"
   ]
  },
  {
   "cell_type": "code",
   "execution_count": 7,
   "id": "24b96ea3",
   "metadata": {},
   "outputs": [
    {
     "data": {
      "text/plain": [
       "REF_PERSONNE             int64\n",
       "RAISON_SOCIALE          object\n",
       "MATRICULE_FISCALE       object\n",
       "LIB_SECTEUR_ACTIVITE    object\n",
       "LIB_ACTIVITE            object\n",
       "VILLE                   object\n",
       "LIB_GOUVERNORAT         object\n",
       "VILLE_GOUVERNORAT       object\n",
       "dtype: object"
      ]
     },
     "execution_count": 7,
     "metadata": {},
     "output_type": "execute_result"
    }
   ],
   "source": [
    "df.dtypes"
   ]
  },
  {
   "cell_type": "markdown",
   "id": "ea569a34",
   "metadata": {},
   "source": [
    "All columns are strings except REF_PERSONNE which is numeric"
   ]
  },
  {
   "cell_type": "markdown",
   "id": "c2d30db9",
   "metadata": {},
   "source": [
    "Columns Analysis:\n",
    "* personne_morale: represents legal entities or companies\n",
    "* REF_PERSONNE: id/reference code for each company.\n",
    "* RAISON_SOCIALE: the official registered name of the company (This is the legal name under which the company operates)\n",
    "* MATRICULE_FISCALE: tax identification number or fiscal registration number assigned to the company by the tax authority. (used for tax reporting and official financial transactions)\n",
    "* LIB_SECTEUR_ACTIVITE: the sector of activity in which the company operates\n",
    "* LIB_ACTIVITE: a more detailed description of the company's specific activity or business.\n",
    "* VILLE: The city where the company is located or registered\n",
    "* LIB_GOUVERNORAT: The governorate where the company is located\n",
    "* VILLE_GOUVERNORAT: This represents the city within the governorate."
   ]
  },
  {
   "cell_type": "markdown",
   "id": "4d67deaf",
   "metadata": {},
   "source": [
    "We can deal with the 8 missing values in LIB_ACTIVITE with LIB_SECTEUR_ACTIVITE to preserve meaningful information."
   ]
  },
  {
   "cell_type": "code",
   "execution_count": 9,
   "id": "128f68fd",
   "metadata": {},
   "outputs": [
    {
     "data": {
      "text/html": [
       "<div>\n",
       "<style scoped>\n",
       "    .dataframe tbody tr th:only-of-type {\n",
       "        vertical-align: middle;\n",
       "    }\n",
       "\n",
       "    .dataframe tbody tr th {\n",
       "        vertical-align: top;\n",
       "    }\n",
       "\n",
       "    .dataframe thead th {\n",
       "        text-align: right;\n",
       "    }\n",
       "</style>\n",
       "<table border=\"1\" class=\"dataframe\">\n",
       "  <thead>\n",
       "    <tr style=\"text-align: right;\">\n",
       "      <th></th>\n",
       "      <th>REF_PERSONNE</th>\n",
       "      <th>RAISON_SOCIALE</th>\n",
       "      <th>MATRICULE_FISCALE</th>\n",
       "      <th>LIB_SECTEUR_ACTIVITE</th>\n",
       "      <th>LIB_ACTIVITE</th>\n",
       "      <th>VILLE</th>\n",
       "      <th>LIB_GOUVERNORAT</th>\n",
       "      <th>VILLE_GOUVERNORAT</th>\n",
       "    </tr>\n",
       "  </thead>\n",
       "  <tbody>\n",
       "    <tr>\n",
       "      <th>89</th>\n",
       "      <td>98018</td>\n",
       "      <td>Societe_000090</td>\n",
       "      <td>0000090G</td>\n",
       "      <td>INDUSTRIE</td>\n",
       "      <td>NaN</td>\n",
       "      <td>NaN</td>\n",
       "      <td>NaN</td>\n",
       "      <td>-</td>\n",
       "    </tr>\n",
       "    <tr>\n",
       "      <th>150</th>\n",
       "      <td>395189</td>\n",
       "      <td>Societe_000151</td>\n",
       "      <td>0000151R</td>\n",
       "      <td>AUCUN</td>\n",
       "      <td>NaN</td>\n",
       "      <td>NaN</td>\n",
       "      <td>NaN</td>\n",
       "      <td>-</td>\n",
       "    </tr>\n",
       "    <tr>\n",
       "      <th>213</th>\n",
       "      <td>550886</td>\n",
       "      <td>Societe_000214</td>\n",
       "      <td>0000214K</td>\n",
       "      <td>ACTIVITE SPORTIVE</td>\n",
       "      <td>NaN</td>\n",
       "      <td>NaN</td>\n",
       "      <td>NaN</td>\n",
       "      <td>-</td>\n",
       "    </tr>\n",
       "    <tr>\n",
       "      <th>222</th>\n",
       "      <td>553109</td>\n",
       "      <td>Societe_000223</td>\n",
       "      <td>0000223B</td>\n",
       "      <td>ACTIVITE SPORTIVE</td>\n",
       "      <td>NaN</td>\n",
       "      <td>NaN</td>\n",
       "      <td>NaN</td>\n",
       "      <td>-</td>\n",
       "    </tr>\n",
       "    <tr>\n",
       "      <th>225</th>\n",
       "      <td>557042</td>\n",
       "      <td>Societe_000226</td>\n",
       "      <td>0000226I</td>\n",
       "      <td>ÉDUCATION</td>\n",
       "      <td>NaN</td>\n",
       "      <td>NaN</td>\n",
       "      <td>NaN</td>\n",
       "      <td>-</td>\n",
       "    </tr>\n",
       "    <tr>\n",
       "      <th>227</th>\n",
       "      <td>557111</td>\n",
       "      <td>Societe_000228</td>\n",
       "      <td>0000228X</td>\n",
       "      <td>ACTIVITE SPORTIVE</td>\n",
       "      <td>NaN</td>\n",
       "      <td>NaN</td>\n",
       "      <td>NaN</td>\n",
       "      <td>-</td>\n",
       "    </tr>\n",
       "    <tr>\n",
       "      <th>489</th>\n",
       "      <td>557149</td>\n",
       "      <td>Societe_000490</td>\n",
       "      <td>0000490Y</td>\n",
       "      <td>AUCUN</td>\n",
       "      <td>NaN</td>\n",
       "      <td>Haffouz</td>\n",
       "      <td>ARIANA</td>\n",
       "      <td>Haffouz - ARIANA</td>\n",
       "    </tr>\n",
       "    <tr>\n",
       "      <th>679</th>\n",
       "      <td>557052</td>\n",
       "      <td>Societe_000680</td>\n",
       "      <td>0000680U</td>\n",
       "      <td>POSTES ET TÉLÉCOMMUNICATIONS</td>\n",
       "      <td>NaN</td>\n",
       "      <td>Berge Du Lac</td>\n",
       "      <td>TUNIS</td>\n",
       "      <td>Berge Du Lac - TUNIS</td>\n",
       "    </tr>\n",
       "  </tbody>\n",
       "</table>\n",
       "</div>"
      ],
      "text/plain": [
       "     REF_PERSONNE  RAISON_SOCIALE MATRICULE_FISCALE  \\\n",
       "89          98018  Societe_000090          0000090G   \n",
       "150        395189  Societe_000151          0000151R   \n",
       "213        550886  Societe_000214          0000214K   \n",
       "222        553109  Societe_000223          0000223B   \n",
       "225        557042  Societe_000226          0000226I   \n",
       "227        557111  Societe_000228          0000228X   \n",
       "489        557149  Societe_000490          0000490Y   \n",
       "679        557052  Societe_000680          0000680U   \n",
       "\n",
       "             LIB_SECTEUR_ACTIVITE LIB_ACTIVITE         VILLE LIB_GOUVERNORAT  \\\n",
       "89                     INDUSTRIE           NaN           NaN             NaN   \n",
       "150                         AUCUN          NaN           NaN             NaN   \n",
       "213             ACTIVITE SPORTIVE          NaN           NaN             NaN   \n",
       "222             ACTIVITE SPORTIVE          NaN           NaN             NaN   \n",
       "225                     ÉDUCATION          NaN           NaN             NaN   \n",
       "227             ACTIVITE SPORTIVE          NaN           NaN             NaN   \n",
       "489                         AUCUN          NaN       Haffouz          ARIANA   \n",
       "679  POSTES ET TÉLÉCOMMUNICATIONS          NaN  Berge Du Lac           TUNIS   \n",
       "\n",
       "        VILLE_GOUVERNORAT  \n",
       "89                     -   \n",
       "150                    -   \n",
       "213                    -   \n",
       "222                    -   \n",
       "225                    -   \n",
       "227                    -   \n",
       "489      Haffouz - ARIANA  \n",
       "679  Berge Du Lac - TUNIS  "
      ]
     },
     "execution_count": 9,
     "metadata": {},
     "output_type": "execute_result"
    }
   ],
   "source": [
    "df[df['LIB_ACTIVITE'].isnull()]"
   ]
  },
  {
   "cell_type": "code",
   "execution_count": 10,
   "id": "ab067d86",
   "metadata": {},
   "outputs": [],
   "source": [
    "df['LIB_ACTIVITE'].fillna(df['LIB_SECTEUR_ACTIVITE'],inplace=True)"
   ]
  },
  {
   "cell_type": "code",
   "execution_count": 12,
   "id": "5edfb396",
   "metadata": {},
   "outputs": [
    {
     "data": {
      "text/plain": [
       "REF_PERSONNE            747\n",
       "RAISON_SOCIALE          747\n",
       "MATRICULE_FISCALE       747\n",
       "LIB_SECTEUR_ACTIVITE     61\n",
       "LIB_ACTIVITE            256\n",
       "VILLE                   159\n",
       "LIB_GOUVERNORAT          19\n",
       "VILLE_GOUVERNORAT       167\n",
       "dtype: int64"
      ]
     },
     "execution_count": 12,
     "metadata": {},
     "output_type": "execute_result"
    }
   ],
   "source": [
    "df.nunique()"
   ]
  },
  {
   "cell_type": "markdown",
   "id": "d0822c18",
   "metadata": {},
   "source": [
    "EDA for activity/sector columns"
   ]
  },
  {
   "cell_type": "markdown",
   "id": "577aa8b1",
   "metadata": {},
   "source": [
    "Questions:\n",
    "* How many unique sectors and activities exist?\n",
    "* Are these sectors with very few activities(or vice versa)?"
   ]
  },
  {
   "cell_type": "code",
   "execution_count": 13,
   "id": "17b52d22",
   "metadata": {},
   "outputs": [
    {
     "name": "stdout",
     "output_type": "stream",
     "text": [
      "Unique Sectors: 61\n",
      "Unique Actvities: 256\n"
     ]
    }
   ],
   "source": [
    "print('Unique Sectors:',df['LIB_SECTEUR_ACTIVITE'].nunique())\n",
    "print('Unique Actvities:',df['LIB_ACTIVITE'].nunique())"
   ]
  },
  {
   "cell_type": "code",
   "execution_count": 17,
   "id": "83ed18da",
   "metadata": {},
   "outputs": [
    {
     "name": "stdout",
     "output_type": "stream",
     "text": [
      "\n",
      "Top 10 sectors:\n",
      "LIB_SECTEUR_ACTIVITE\n",
      "AUCUN                                              93\n",
      "COMMERCE DE GROS ET INTERMÉDIAIRES DU COMMERCE     51\n",
      "ACTIVITES IARD TARIFIABLES                         50\n",
      "SERVICES FOURNIS PRINCIPALEMENT AUX ENTREPRISES    41\n",
      "CONSTRUCTION                                       38\n",
      "ACTIVITÉS INFORMATIQUES                            29\n",
      "ACTIVITÉS IMMOBILIÈRES                             29\n",
      "HÔTELS ET RESTAURANTS                              29\n",
      "AGRICULTURE, CHASSE, SERVICES ANNEXES              28\n",
      "SANTÉ ET ACTION SOCIALE                            25\n",
      "Name: count, dtype: int64\n",
      "\n",
      "Top 10 Activities:\n",
      "LIB_ACTIVITE\n",
      "NON DEFINI                                      91\n",
      "PROMOTION IMMOBILIÈRE DE LOGEMENTS              24\n",
      "AUXILIAIRES D ASSURANCE                         16\n",
      "CULTURE DE CÉRÉALES ; CULTURES INDUSTRIELLES    12\n",
      "AGENCES ET BUREAUX                              12\n",
      "BANQUES                                         12\n",
      "CONSEIL POUR LES AFFAIRES ET LA GESTION         12\n",
      "AUTRES ACTIVITÉS SPORTIVES                      11\n",
      "CONSTRUCTION DE BÂTIMENTS DIVERS                11\n",
      "ACTIVITÉS DES AUXILIAIRES MÉDICAUX              10\n",
      "Name: count, dtype: int64\n"
     ]
    }
   ],
   "source": [
    "# Frequency distribution\n",
    "print('\\nTop 10 sectors:')\n",
    "print(df['LIB_SECTEUR_ACTIVITE'].value_counts().head(10))\n",
    "\n",
    "print('\\nTop 10 Activities:')\n",
    "print(df['LIB_ACTIVITE'].value_counts().head(10))"
   ]
  },
  {
   "cell_type": "markdown",
   "id": "2c6182a2",
   "metadata": {},
   "source": [
    "As we can see, we have many companies whose Sector and activities are not defined, since we don't know any information about them we can't recommend them anything, they will be filtered."
   ]
  },
  {
   "cell_type": "code",
   "execution_count": 18,
   "id": "c2d691a3",
   "metadata": {},
   "outputs": [
    {
     "name": "stdout",
     "output_type": "stream",
     "text": [
      "original shape (747, 8)\n",
      "Filtered shape: (654, 8)\n"
     ]
    }
   ],
   "source": [
    "filtered_df = df[\n",
    "    (df['LIB_SECTEUR_ACTIVITE']!='AUCUN') &\n",
    "    (df['LIB_ACTIVITE']!='NON DEFINI')\n",
    "]\n",
    "print('original shape',df.shape)\n",
    "print('Filtered shape:',filtered_df.shape)"
   ]
  },
  {
   "cell_type": "code",
   "execution_count": null,
   "id": "bdfc656c",
   "metadata": {},
   "outputs": [
    {
     "name": "stdout",
     "output_type": "stream",
     "text": [
      "\n",
      "Top 10 sectors:\n",
      "LIB_SECTEUR_ACTIVITE\n",
      "COMMERCE DE GROS ET INTERMÉDIAIRES DU COMMERCE     51\n",
      "ACTIVITES IARD TARIFIABLES                         50\n",
      "SERVICES FOURNIS PRINCIPALEMENT AUX ENTREPRISES    41\n",
      "CONSTRUCTION                                       38\n",
      "ACTIVITÉS INFORMATIQUES                            29\n",
      "ACTIVITÉS IMMOBILIÈRES                             29\n",
      "HÔTELS ET RESTAURANTS                              29\n",
      "AGRICULTURE, CHASSE, SERVICES ANNEXES              28\n",
      "SANTÉ ET ACTION SOCIALE                            25\n",
      "TRANSPORTS TERRESTRES                              23\n",
      "Name: count, dtype: int64\n",
      "\n",
      "Top 10 Activities:\n",
      "LIB_ACTIVITE\n",
      "PROMOTION IMMOBILIÈRE DE LOGEMENTS              24\n",
      "AUXILIAIRES D ASSURANCE                         16\n",
      "AGENCES ET BUREAUX                              12\n",
      "BANQUES                                         12\n",
      "CONSEIL POUR LES AFFAIRES ET LA GESTION         12\n",
      "CULTURE DE CÉRÉALES ; CULTURES INDUSTRIELLES    12\n",
      "AUTRES ACTIVITÉS SPORTIVES                      11\n",
      "CONSTRUCTION DE BÂTIMENTS DIVERS                11\n",
      "AUTRES ACTIVITÉS RATTACHÉES À L INFORMATIQUE    10\n",
      "AUTRES COMMERCES DE GROS                        10\n",
      "Name: count, dtype: int64\n"
     ]
    }
   ],
   "source": [
    "# Frequency distribution of filtered_df\n",
    "print('\\nTop 10 sectors:')\n",
    "print(filtered_df['LIB_SECTEUR_ACTIVITE'].value_counts().head(10))\n",
    "\n",
    "print('\\nTop 10 Activities:')\n",
    "print(filtered_df['LIB_ACTIVITE'].value_counts().head(10))"
   ]
  },
  {
   "cell_type": "markdown",
   "id": "4dd94978",
   "metadata": {},
   "source": [
    "After filtering these rows, we can see that we don't have any undefined values in both columns, which means that rows which had undefined activities also had undefined sectors."
   ]
  },
  {
   "cell_type": "markdown",
   "id": "71190601",
   "metadata": {},
   "source": [
    "But we have some rows with missing Secteur and activite (decoded as empty string) we need to deal with them.We can replace them with activities"
   ]
  },
  {
   "cell_type": "code",
   "execution_count": 42,
   "id": "78a99705",
   "metadata": {},
   "outputs": [
    {
     "name": "stdout",
     "output_type": "stream",
     "text": [
      "Number of empty string decoded sectors: 0\n",
      "Sample rows with empty sectors:\n",
      "Empty DataFrame\n",
      "Columns: [REF_PERSONNE, RAISON_SOCIALE, MATRICULE_FISCALE, LIB_SECTEUR_ACTIVITE, LIB_ACTIVITE, VILLE, LIB_GOUVERNORAT, VILLE_GOUVERNORAT]\n",
      "Index: []\n"
     ]
    }
   ],
   "source": [
    "empty_mask = (\n",
    "    filtered_df['LIB_SECTEUR_ACTIVITE'].str.strip().eq('') \n",
    ")\n",
    "print(f\"Number of empty string decoded sectors: {empty_mask.sum()}\")\n",
    "print('Sample rows with empty sectors:')\n",
    "print(filtered_df[empty_mask])"
   ]
  },
  {
   "cell_type": "code",
   "execution_count": 41,
   "id": "3a9a175b",
   "metadata": {},
   "outputs": [],
   "source": [
    "filtered_df['LIB_SECTEUR_ACTIVITE'] = filtered_df.apply(\n",
    "    lambda row: row['LIB_ACTIVITE'] if empty_mask[row.name] and pd.notna(row['LIB_ACTIVITE']) else row['LIB_SECTEUR_ACTIVITE'],\n",
    "    axis=1\n",
    ")"
   ]
  },
  {
   "cell_type": "markdown",
   "id": "24cef71b",
   "metadata": {},
   "source": [
    "we also need to apply the empty mask to LIB_ACTIVITE if there are empty string decoded values."
   ]
  },
  {
   "cell_type": "code",
   "execution_count": 45,
   "id": "f08421ca",
   "metadata": {},
   "outputs": [
    {
     "name": "stdout",
     "output_type": "stream",
     "text": [
      "Number of empty string decoded sectors: 0\n",
      "Sample rows with empty sectors:\n",
      "Empty DataFrame\n",
      "Columns: [REF_PERSONNE, RAISON_SOCIALE, MATRICULE_FISCALE, LIB_SECTEUR_ACTIVITE, LIB_ACTIVITE, VILLE, LIB_GOUVERNORAT, VILLE_GOUVERNORAT]\n",
      "Index: []\n"
     ]
    }
   ],
   "source": [
    "empty_mask_2 = (\n",
    "    filtered_df['LIB_ACTIVITE'].str.strip().eq('') \n",
    ")\n",
    "print(f\"Number of empty string decoded sectors: {empty_mask_2.sum()}\")\n",
    "print('Sample rows with empty sectors:')\n",
    "print(filtered_df[empty_mask_2])"
   ]
  },
  {
   "cell_type": "markdown",
   "id": "2e880de1",
   "metadata": {},
   "source": [
    "We can now map activities to sector, to check for any illogical mapping."
   ]
  },
  {
   "cell_type": "code",
   "execution_count": 43,
   "id": "5957e194",
   "metadata": {},
   "outputs": [
    {
     "name": "stdout",
     "output_type": "stream",
     "text": [
      "Sector:'ACTIVITE SPORTIVE\n",
      "Activities:ACTIVITE SPORTIVE\n",
      "\n",
      "Sector:'ACTIVITES IARD TARIFIABLES\n",
      "Activities:QUINCAILLERIES (COMMERCE), ELECTRICITE (COMMERCE D ARTICLES D ECLAIRAGE), HYGIENE (ETABLISSEMENT DE BAIN DOUCHE HAMMAM SAUNA), IMPRIMERIE, TYPOGRAPHIES ET OFFSET, AGENCE ( DE VOYAGE,ASSURANCE,IMMOBILIERE), ECOLES, COLLEGES, CENTRE DE FORMATION, SALLE DE SPECTACLE OU DE FETE, BOULANGERIE AVEC FOURS AU FUEL (SANS FABRICATION DE BISCUITS ET DE GATEAUX SECS), ELECTRICIENS (REPARATION ET VENTE DE FOURNITURES POUR INSTALLATIONS ELECTRIQUE A L EXEPTION DU MATERIEL TRAITE SOUS LA RUBRIQUE -RADIO TV- ), ABBATOIRS ET DEPENDANCES(AVEC CHAMBRE FRIGORIFIQUE D UNE CAPACITE < 120 M3), VERRERIE, VAISSELLES (MAGASIN DE VENTE), PHARMACIENS (VENTE EN DETAIL), BATIMENTS : ENTREPRENEURS DE MACONNERIE ET DE CONSTRUCTION, ALIMENTATION GENERALE (COMMERCE), LINGE DE MAISON (MAGASIN DE VENTE), MATIERES PLASTIQUES  (COMMERCE D ARTICLES EN), MEDECIN, RESTAURANT, SELF SERVICE ET CANTINE, OPTIQUE ACOUSTIQUE AVEC VENTE APPAREIL PHOTO (INSTRUMENT DE), BOUCHERIES, VOLAILLES ET POISSONS (MAGASIN DE VENTE AVEC CHAMBRE FRIGORIFIQUE D UNE CAPACITE TOTALE < 120 M3), VOLAILLES, ARTICLES DE FERMES, ALIMENTATION GENERALE LEGUMES ET FRUITS , MATERIEL INFORMATIQUE (VENTE), CLINIQUES (SANS PRESENCE DE RADIO - ISOTOPE), FRUITS, PRIMEURS, LEGUMES(MAGASIN DE VENTE), LAVERIE SELF SERVICE AVEC OU SANS SECHOIR, TRAVAUX DE METAUX(PROFESSION AUTRE QUE CELLE DESIGNEES PAR AILLEURS - AJUSTAGE,ATELIER DE MECANIQUE ET ATELIER DE MONTAGE, CHARPENTE ET CONSTRUCTION METALLIQUE, CHAUDRONNERIE, DECOLLETAGE, DECOUPAGE, EMBOUTISSAGE, ESTAMPAGE, ETIRAGE, FERBLANTERIE, FERRONERIE, FONDERIE, FORGE, SERRURERIE, TOLERIE, TOURNAGE, TREFILERIE, VISSERIE )\n",
      "\n",
      "Sector:'ACTIVITES MRP TARIFIABLES\n",
      "Activities:Bureau administratif , Parfumerie\n",
      "\n",
      "Sector:'ACTIVITÉS ASSOCIATIVES\n",
      "Activities:ORGANISATIONS ASSOCIATIVES N.C.A., ORGANISATIONS PROFESSIONNELLES, ORGANISATIONS PATRONALES ET CONSULAIRES\n",
      "\n",
      "Sector:'ACTIVITÉS IMMOBILIÈRES\n",
      "Activities:PROMOTION IMMOBILIÈRE DE LOGEMENTS, ADMINISTRATION D AUTRES BIENS IMMOBILIERS, AGENCES IMMOBILIÈRES, LOCATION DE LOGEMENTS\n",
      "\n"
     ]
    }
   ],
   "source": [
    "sector_activity_map = filtered_df.groupby('LIB_SECTEUR_ACTIVITE')['LIB_ACTIVITE'].unique().reset_index()\n",
    "for _, row in sector_activity_map.head().iterrows():\n",
    "    print(f\"Sector:'{row['LIB_SECTEUR_ACTIVITE']}\")\n",
    "    print(f\"Activities:{', '.join(row['LIB_ACTIVITE'])}\\n\")"
   ]
  },
  {
   "cell_type": "code",
   "execution_count": 47,
   "id": "f5aea71e",
   "metadata": {},
   "outputs": [
    {
     "data": {
      "text/plain": [
       "REF_PERSONNE              0\n",
       "RAISON_SOCIALE            0\n",
       "MATRICULE_FISCALE         0\n",
       "LIB_SECTEUR_ACTIVITE      0\n",
       "LIB_ACTIVITE              0\n",
       "VILLE                   373\n",
       "LIB_GOUVERNORAT         424\n",
       "VILLE_GOUVERNORAT         0\n",
       "dtype: int64"
      ]
     },
     "execution_count": 47,
     "metadata": {},
     "output_type": "execute_result"
    }
   ],
   "source": [
    "filtered_df.isna().sum()"
   ]
  }
 ],
 "metadata": {
  "kernelspec": {
   "display_name": "venv",
   "language": "python",
   "name": "python3"
  },
  "language_info": {
   "codemirror_mode": {
    "name": "ipython",
    "version": 3
   },
   "file_extension": ".py",
   "mimetype": "text/x-python",
   "name": "python",
   "nbconvert_exporter": "python",
   "pygments_lexer": "ipython3",
   "version": "3.10.0"
  }
 },
 "nbformat": 4,
 "nbformat_minor": 5
}
