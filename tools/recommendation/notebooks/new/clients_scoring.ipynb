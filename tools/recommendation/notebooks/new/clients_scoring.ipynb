{
 "cells": [
  {
   "cell_type": "code",
   "execution_count": 2,
   "id": "8336f873",
   "metadata": {},
   "outputs": [],
   "source": [
    "import pandas as pd\n",
    "import numpy as np"
   ]
  },
  {
   "cell_type": "code",
   "execution_count": 3,
   "id": "c242fc46",
   "metadata": {},
   "outputs": [],
   "source": [
    "df = pd.read_pickle('../../data/contrats.pkl')\n",
    "df_clients = pd.read_pickle('../../data/clients_phy.pkl')"
   ]
  },
  {
   "cell_type": "markdown",
   "id": "9c0236a9",
   "metadata": {},
   "source": [
    "Step 1: Aggregate Client-Level Metrics"
   ]
  },
  {
   "cell_type": "code",
   "execution_count": 4,
   "id": "8b405027",
   "metadata": {},
   "outputs": [],
   "source": [
    "# Group by client and calculate key metrics\n",
    "client_metrics = df.groupby('REF_PERSONNE').agg(\n",
    "    # Volume and Diversity Metrics\n",
    "    total_contracts=('NUM_CONTRAT', 'count'),\n",
    "    active_contracts=('LIB_ETAT_CONTRAT', lambda x: (x == 'EN COURS').sum()),\n",
    "    product_variety=('LIB_PRODUIT', 'nunique'),\n",
    "    branch_variety=('branche', 'nunique'),\n",
    "    \n",
    "    # Financial Value Metrics\n",
    "    total_premiums_paid=('somme_quittances', 'sum'),\n",
    "    avg_premium_per_contract=('somme_quittances', 'mean'),\n",
    "    max_premium=('somme_quittances', 'max'),\n",
    "    total_capital_assured=('Capital_assure', 'sum'),\n",
    "    avg_capital_per_contract=('Capital_assure', 'mean'),\n",
    "    \n",
    "    # Payment Behavior Metrics\n",
    "    paid_ratio=('statut_paiement', lambda x: (x == 'Payé').mean()),\n",
    "    total_paid_contracts=('statut_paiement', lambda x: (x == 'Payé').sum()),\n",
    "    total_unpaid_contracts=('statut_paiement', lambda x: (x == 'Non payé').sum()),\n",
    "    \n",
    "    # Contract Status Metrics\n",
    "    expired_contracts=('LIB_ETAT_CONTRAT', lambda x: (x == 'EXPIRE').sum()),\n",
    "    canceled_contracts=('LIB_ETAT_CONTRAT', lambda x: (x == 'RESILIE').sum()),\n",
    "    active_ratio=('LIB_ETAT_CONTRAT', lambda x: (x == 'EN COURS').mean())\n",
    ").reset_index()\n",
    "\n",
    "# Create derived metrics\n",
    "client_metrics['premium_per_contract_ratio'] = client_metrics['max_premium'] / client_metrics['avg_premium_per_contract'].clip(lower=1)\n",
    "client_metrics['capital_premium_ratio'] = client_metrics['total_capital_assured'] / client_metrics['total_premiums_paid'].clip(lower=1)\n",
    "client_metrics['product_density'] = client_metrics['product_variety'] / client_metrics['total_contracts'].clip(lower=1)"
   ]
  },
  {
   "cell_type": "markdown",
   "id": "5a0678a7",
   "metadata": {},
   "source": [
    "Step 2: Create Scoring Components"
   ]
  },
  {
   "cell_type": "markdown",
   "id": "c9b7d8d1",
   "metadata": {},
   "source": [
    "Component 1: Loyalty & Engagement Score (35%)"
   ]
  },
  {
   "cell_type": "code",
   "execution_count": 5,
   "id": "973743c9",
   "metadata": {},
   "outputs": [],
   "source": [
    "client_metrics['loyalty_score'] = (\n",
    "    # Contract volume (30%)\n",
    "    (client_metrics['total_contracts'] / client_metrics['total_contracts'].max() * 30) +\n",
    "    \n",
    "    # Product diversity (25%)\n",
    "    (client_metrics['product_variety'] / client_metrics['product_variety'].max() * 25) +\n",
    "    \n",
    "    # Branch diversity (20%)\n",
    "    (client_metrics['branch_variety'] / client_metrics['branch_variety'].max() * 20) +\n",
    "    \n",
    "    # Active engagement (25%)\n",
    "    (client_metrics['active_contracts'] / client_metrics['total_contracts'].clip(lower=1) * 25)\n",
    ")"
   ]
  },
  {
   "cell_type": "markdown",
   "id": "cef8868e",
   "metadata": {},
   "source": [
    "Component 2: Financial Value Score (40%)"
   ]
  },
  {
   "cell_type": "code",
   "execution_count": 6,
   "id": "7c918f02",
   "metadata": {},
   "outputs": [],
   "source": [
    "client_metrics['financial_score'] = (\n",
    "    # Total revenue generated (35%)\n",
    "    (client_metrics['total_premiums_paid'] / client_metrics['total_premiums_paid'].max() * 35) +\n",
    "    \n",
    "    # Average contract value (25%)\n",
    "    (client_metrics['avg_premium_per_contract'] / client_metrics['avg_premium_per_contract'].max() * 25) +\n",
    "    \n",
    "    # Capital exposure (20%)\n",
    "    (client_metrics['total_capital_assured'] / client_metrics['total_capital_assured'].max() * 20) +\n",
    "    \n",
    "    # Value consistency (20%)\n",
    "    (1 / client_metrics['premium_per_contract_ratio'] * 20)  # Lower ratio = more consistent spending\n",
    ")"
   ]
  },
  {
   "cell_type": "markdown",
   "id": "61f9f95b",
   "metadata": {},
   "source": [
    "Component 3: Payment Behaviour Score(25%)"
   ]
  },
  {
   "cell_type": "code",
   "execution_count": 7,
   "id": "fb01a5c2",
   "metadata": {},
   "outputs": [],
   "source": [
    "client_metrics['payment_score'] = (\n",
    "    # Payment reliability (40%)\n",
    "    (client_metrics['paid_ratio'] * 40) +\n",
    "    \n",
    "    # Contract maintenance (30%)\n",
    "    ((1 - client_metrics['canceled_contracts'] / client_metrics['total_contracts'].clip(lower=1)) * 30) +\n",
    "    \n",
    "    # Payment concentration (30%)\n",
    "    (client_metrics['total_paid_contracts'] / client_metrics['total_contracts'].clip(lower=1) * 30)\n",
    ")"
   ]
  },
  {
   "cell_type": "markdown",
   "id": "fe4e202b",
   "metadata": {},
   "source": [
    "Normalize All scores to 0-100 Scale"
   ]
  },
  {
   "cell_type": "code",
   "execution_count": 8,
   "id": "927ebfa0",
   "metadata": {},
   "outputs": [],
   "source": [
    "for score_col in ['loyalty_score', 'financial_score', 'payment_score']:\n",
    "    client_metrics[score_col] = (\n",
    "        (client_metrics[score_col] - client_metrics[score_col].min()) / \n",
    "        (client_metrics[score_col].max() - client_metrics[score_col].min()) * 100\n",
    "    ).fillna(0)  # Fill NaN with 0 for clients with no contracts"
   ]
  },
  {
   "cell_type": "markdown",
   "id": "388bcbd4",
   "metadata": {},
   "source": [
    "Step 3: Creating Final Client Score and segments"
   ]
  },
  {
   "cell_type": "code",
   "execution_count": 9,
   "id": "5d5de387",
   "metadata": {},
   "outputs": [],
   "source": [
    "# Calculate weighted final score\n",
    "client_metrics['final_client_score'] = (\n",
    "    client_metrics['loyalty_score'] * 0.35 +\n",
    "    client_metrics['financial_score'] * 0.40 + \n",
    "    client_metrics['payment_score'] * 0.25\n",
    ")\n",
    "\n",
    "# Ensure score is between 0-100\n",
    "client_metrics['final_client_score'] = client_metrics['final_client_score'].clip(0, 100)\n",
    "\n",
    "# Create client segments\n",
    "def segment_clients(score):\n",
    "    if score >= 85:\n",
    "        return 'Premium'\n",
    "    elif score >= 70:\n",
    "        return 'Gold'\n",
    "    elif score >= 50:\n",
    "        return 'Silver'\n",
    "    elif score >= 30:\n",
    "        return 'Bronze'\n",
    "    else:\n",
    "        return 'Prospect'\n",
    "\n",
    "client_metrics['client_segment'] = client_metrics['final_client_score'].apply(segment_clients)\n",
    "\n",
    "# Create risk assessment\n",
    "client_metrics['risk_profile'] = client_metrics['payment_score'].apply(\n",
    "    lambda x: 'Low Risk' if x >= 80 else 'Medium Risk' if x >= 50 else 'High Risk'\n",
    ")"
   ]
  },
  {
   "cell_type": "markdown",
   "id": "94f196e8",
   "metadata": {},
   "source": [
    "Step 4: Final Client Scoring Table"
   ]
  },
  {
   "cell_type": "code",
   "execution_count": 10,
   "id": "f7b3178d",
   "metadata": {},
   "outputs": [
    {
     "name": "stdout",
     "output_type": "stream",
     "text": [
      "Client Scoring Distribution:\n",
      "client_segment\n",
      "Prospect    34304\n",
      "Bronze       7761\n",
      "Name: count, dtype: int64\n",
      "\n",
      "Average Client Score: 23.61\n",
      "Conversion Potential: 42065 clients need activation\n"
     ]
    }
   ],
   "source": [
    "# Merge with client profile data\n",
    "final_scoring_table = pd.merge(\n",
    "    df_clients[['REF_PERSONNE', 'PROFESSION_GROUP', 'SECTEUR_ACTIVITE_GROUP', 'AGE', 'SITUATION_FAMILIALE']],\n",
    "    client_metrics,\n",
    "    on='REF_PERSONNE',\n",
    "    how='left'\n",
    ")\n",
    "\n",
    "# Fill NaN values for clients without contracts\n",
    "score_columns = ['loyalty_score', 'financial_score', 'payment_score', 'final_client_score']\n",
    "for col in score_columns:\n",
    "    final_scoring_table[col] = final_scoring_table[col].fillna(0)\n",
    "final_scoring_table['client_segment'] = final_scoring_table['client_segment'].fillna('Prospect')\n",
    "final_scoring_table['risk_profile'] = final_scoring_table['risk_profile'].fillna('High Risk')\n",
    "\n",
    "# Select final columns for the scoring table\n",
    "client_scoring = final_scoring_table[[\n",
    "    'REF_PERSONNE', 'PROFESSION_GROUP', 'SECTEUR_ACTIVITE_GROUP', 'AGE', 'SITUATION_FAMILIALE',\n",
    "    'total_contracts', 'active_contracts', 'product_variety',\n",
    "    'total_premiums_paid', 'avg_premium_per_contract', 'total_capital_assured',\n",
    "    'paid_ratio', 'total_paid_contracts', 'total_unpaid_contracts',\n",
    "    'loyalty_score', 'financial_score', 'payment_score',\n",
    "    'final_client_score', 'client_segment', 'risk_profile'\n",
    "]].sort_values('final_client_score', ascending=False)\n",
    "\n",
    "# Add performance metrics\n",
    "print(\"Client Scoring Distribution:\")\n",
    "print(client_scoring['client_segment'].value_counts())\n",
    "print(f\"\\nAverage Client Score: {client_scoring['final_client_score'].mean():.2f}\")\n",
    "print(f\"Conversion Potential: {(client_scoring['client_segment'].isin(['Bronze', 'Prospect'])).sum()} clients need activation\")"
   ]
  },
  {
   "cell_type": "code",
   "execution_count": 11,
   "id": "ab235e40",
   "metadata": {},
   "outputs": [
    {
     "data": {
      "text/plain": [
       "(42065, 20)"
      ]
     },
     "execution_count": 11,
     "metadata": {},
     "output_type": "execute_result"
    }
   ],
   "source": [
    "client_scoring.shape"
   ]
  },
  {
   "cell_type": "code",
   "execution_count": 12,
   "id": "51c68625",
   "metadata": {},
   "outputs": [
    {
     "data": {
      "text/plain": [
       "Index(['REF_PERSONNE', 'PROFESSION_GROUP', 'SECTEUR_ACTIVITE_GROUP', 'AGE',\n",
       "       'SITUATION_FAMILIALE', 'total_contracts', 'active_contracts',\n",
       "       'product_variety', 'total_premiums_paid', 'avg_premium_per_contract',\n",
       "       'total_capital_assured', 'paid_ratio', 'total_paid_contracts',\n",
       "       'total_unpaid_contracts', 'loyalty_score', 'financial_score',\n",
       "       'payment_score', 'final_client_score', 'client_segment',\n",
       "       'risk_profile'],\n",
       "      dtype='object')"
      ]
     },
     "execution_count": 12,
     "metadata": {},
     "output_type": "execute_result"
    }
   ],
   "source": [
    "client_scoring.columns"
   ]
  },
  {
   "cell_type": "markdown",
   "id": "6c879be5",
   "metadata": {},
   "source": [
    "exporting the data"
   ]
  },
  {
   "cell_type": "code",
   "execution_count": 13,
   "id": "7b8b7a2e",
   "metadata": {},
   "outputs": [],
   "source": [
    "client_scoring.to_pickle('../../data/client_phy_scoring.pkl')"
   ]
  }
 ],
 "metadata": {
  "kernelspec": {
   "display_name": "venv",
   "language": "python",
   "name": "python3"
  },
  "language_info": {
   "codemirror_mode": {
    "name": "ipython",
    "version": 3
   },
   "file_extension": ".py",
   "mimetype": "text/x-python",
   "name": "python",
   "nbconvert_exporter": "python",
   "pygments_lexer": "ipython3",
   "version": "3.10.0"
  }
 },
 "nbformat": 4,
 "nbformat_minor": 5
}
