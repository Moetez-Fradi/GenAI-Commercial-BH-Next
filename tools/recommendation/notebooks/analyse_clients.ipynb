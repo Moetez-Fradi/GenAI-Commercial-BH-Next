{
 "cells": [
  {
   "cell_type": "code",
   "execution_count": 1,
   "id": "0bed0031",
   "metadata": {},
   "outputs": [],
   "source": [
    "import pandas as pd\n",
    "import matplotlib.pyplot as plt\n",
    "import seaborn as sns"
   ]
  },
  {
   "cell_type": "code",
   "execution_count": 2,
   "id": "0f6caa87",
   "metadata": {},
   "outputs": [],
   "source": [
    "import openpyxl"
   ]
  },
  {
   "cell_type": "code",
   "execution_count": 3,
   "id": "ccf33410",
   "metadata": {},
   "outputs": [],
   "source": [
    "file = pd.ExcelFile('../data/Données_Assurance_S2.xlsx')"
   ]
  },
  {
   "cell_type": "code",
   "execution_count": 4,
   "id": "cc576e2c",
   "metadata": {},
   "outputs": [
    {
     "data": {
      "text/plain": [
       "['Clients', 'Contrats', 'Opportunités', 'Mapping_Produits']"
      ]
     },
     "execution_count": 4,
     "metadata": {},
     "output_type": "execute_result"
    }
   ],
   "source": [
    "file_names = file.sheet_names\n",
    "file_names"
   ]
  },
  {
   "cell_type": "code",
   "execution_count": 5,
   "id": "eb3de716",
   "metadata": {},
   "outputs": [],
   "source": [
    "clients = pd.read_excel('../data/Données_Assurance_S2.xlsx',sheet_name='Clients')"
   ]
  },
  {
   "cell_type": "code",
   "execution_count": 6,
   "id": "c3055214",
   "metadata": {},
   "outputs": [
    {
     "data": {
      "text/html": [
       "<div>\n",
       "<style scoped>\n",
       "    .dataframe tbody tr th:only-of-type {\n",
       "        vertical-align: middle;\n",
       "    }\n",
       "\n",
       "    .dataframe tbody tr th {\n",
       "        vertical-align: top;\n",
       "    }\n",
       "\n",
       "    .dataframe thead th {\n",
       "        text-align: right;\n",
       "    }\n",
       "</style>\n",
       "<table border=\"1\" class=\"dataframe\">\n",
       "  <thead>\n",
       "    <tr style=\"text-align: right;\">\n",
       "      <th></th>\n",
       "      <th>ClientID</th>\n",
       "      <th>Nom</th>\n",
       "      <th>Prénom</th>\n",
       "      <th>CIN</th>\n",
       "      <th>DateNaissance</th>\n",
       "      <th>Sexe</th>\n",
       "      <th>SituationFamiliale</th>\n",
       "      <th>Profession</th>\n",
       "      <th>RevenusMensuels</th>\n",
       "      <th>Adresse</th>\n",
       "      <th>Email</th>\n",
       "      <th>Téléphone</th>\n",
       "      <th>WhatsApp</th>\n",
       "    </tr>\n",
       "  </thead>\n",
       "  <tbody>\n",
       "    <tr>\n",
       "      <th>0</th>\n",
       "      <td>1</td>\n",
       "      <td>Ben Ali El Amri</td>\n",
       "      <td>Ahmed Salah</td>\n",
       "      <td>82387512</td>\n",
       "      <td>1981-12-07</td>\n",
       "      <td>F</td>\n",
       "      <td>Marié</td>\n",
       "      <td>Médecin</td>\n",
       "      <td>4041</td>\n",
       "      <td>97 Rue Imbert - Mutuelleville, Sfax</td>\n",
       "      <td>ahmed.salah@gmail.com</td>\n",
       "      <td>21671364363</td>\n",
       "      <td>21673804239</td>\n",
       "    </tr>\n",
       "    <tr>\n",
       "      <th>1</th>\n",
       "      <td>2</td>\n",
       "      <td>Ben Ali Ben Hassen</td>\n",
       "      <td>Ahmed Salah</td>\n",
       "      <td>11727315</td>\n",
       "      <td>1998-02-28</td>\n",
       "      <td>M</td>\n",
       "      <td>Marié</td>\n",
       "      <td>Artisan</td>\n",
       "      <td>1813</td>\n",
       "      <td>106 Rue Giraud - Centre-Ville, Mahdia</td>\n",
       "      <td>ahmed.salah@gmail.com</td>\n",
       "      <td>21623740587</td>\n",
       "      <td>21694324932</td>\n",
       "    </tr>\n",
       "    <tr>\n",
       "      <th>2</th>\n",
       "      <td>3</td>\n",
       "      <td>Ben Ali Tlili</td>\n",
       "      <td>Ahmed Salah</td>\n",
       "      <td>82121072</td>\n",
       "      <td>1980-04-13</td>\n",
       "      <td>M</td>\n",
       "      <td>Marié</td>\n",
       "      <td>Médecin</td>\n",
       "      <td>2867</td>\n",
       "      <td>164 Rue Guichard - Lac 2, Gafsa</td>\n",
       "      <td>ahmed.salah@gmail.com</td>\n",
       "      <td>21667576259</td>\n",
       "      <td>21689757319</td>\n",
       "    </tr>\n",
       "    <tr>\n",
       "      <th>3</th>\n",
       "      <td>4</td>\n",
       "      <td>Ben Ali Belhaj</td>\n",
       "      <td>Ahmed Salah</td>\n",
       "      <td>2858647</td>\n",
       "      <td>2006-01-13</td>\n",
       "      <td>M</td>\n",
       "      <td>Marié</td>\n",
       "      <td>Ingénieur</td>\n",
       "      <td>2994</td>\n",
       "      <td>156 Rue Colas - Centre-Ville, Sfax</td>\n",
       "      <td>ahmed.salah@gmail.com</td>\n",
       "      <td>21638268772</td>\n",
       "      <td>21694185357</td>\n",
       "    </tr>\n",
       "    <tr>\n",
       "      <th>4</th>\n",
       "      <td>5</td>\n",
       "      <td>Ben Ali Mzoughi</td>\n",
       "      <td>Ahmed Salah</td>\n",
       "      <td>52452825</td>\n",
       "      <td>1963-01-15</td>\n",
       "      <td>F</td>\n",
       "      <td>Divorcé</td>\n",
       "      <td>Étudiant</td>\n",
       "      <td>5729</td>\n",
       "      <td>46 Rue Weber - Ezzahra, Kasserine</td>\n",
       "      <td>ahmed.salah@gmail.com</td>\n",
       "      <td>21679949500</td>\n",
       "      <td>21691349318</td>\n",
       "    </tr>\n",
       "  </tbody>\n",
       "</table>\n",
       "</div>"
      ],
      "text/plain": [
       "   ClientID                 Nom       Prénom       CIN DateNaissance Sexe  \\\n",
       "0         1     Ben Ali El Amri  Ahmed Salah  82387512    1981-12-07    F   \n",
       "1         2  Ben Ali Ben Hassen  Ahmed Salah  11727315    1998-02-28    M   \n",
       "2         3       Ben Ali Tlili  Ahmed Salah  82121072    1980-04-13    M   \n",
       "3         4      Ben Ali Belhaj  Ahmed Salah   2858647    2006-01-13    M   \n",
       "4         5     Ben Ali Mzoughi  Ahmed Salah  52452825    1963-01-15    F   \n",
       "\n",
       "  SituationFamiliale Profession  RevenusMensuels  \\\n",
       "0              Marié    Médecin             4041   \n",
       "1              Marié    Artisan             1813   \n",
       "2              Marié    Médecin             2867   \n",
       "3              Marié  Ingénieur             2994   \n",
       "4            Divorcé   Étudiant             5729   \n",
       "\n",
       "                                 Adresse                  Email    Téléphone  \\\n",
       "0    97 Rue Imbert - Mutuelleville, Sfax  ahmed.salah@gmail.com  21671364363   \n",
       "1  106 Rue Giraud - Centre-Ville, Mahdia  ahmed.salah@gmail.com  21623740587   \n",
       "2        164 Rue Guichard - Lac 2, Gafsa  ahmed.salah@gmail.com  21667576259   \n",
       "3     156 Rue Colas - Centre-Ville, Sfax  ahmed.salah@gmail.com  21638268772   \n",
       "4      46 Rue Weber - Ezzahra, Kasserine  ahmed.salah@gmail.com  21679949500   \n",
       "\n",
       "      WhatsApp  \n",
       "0  21673804239  \n",
       "1  21694324932  \n",
       "2  21689757319  \n",
       "3  21694185357  \n",
       "4  21691349318  "
      ]
     },
     "execution_count": 6,
     "metadata": {},
     "output_type": "execute_result"
    }
   ],
   "source": [
    "clients.head()"
   ]
  },
  {
   "cell_type": "markdown",
   "id": "1cbade20",
   "metadata": {},
   "source": [
    "dataframe Column types"
   ]
  },
  {
   "cell_type": "code",
   "execution_count": 7,
   "id": "d41a4caa",
   "metadata": {},
   "outputs": [
    {
     "data": {
      "text/plain": [
       "ClientID                       int64\n",
       "Nom                           object\n",
       "Prénom                        object\n",
       "CIN                            int64\n",
       "DateNaissance         datetime64[ns]\n",
       "Sexe                          object\n",
       "SituationFamiliale            object\n",
       "Profession                    object\n",
       "RevenusMensuels                int64\n",
       "Adresse                       object\n",
       "Email                         object\n",
       "Téléphone                      int64\n",
       "WhatsApp                       int64\n",
       "dtype: object"
      ]
     },
     "execution_count": 7,
     "metadata": {},
     "output_type": "execute_result"
    }
   ],
   "source": [
    "clients.dtypes"
   ]
  },
  {
   "cell_type": "markdown",
   "id": "7580b9b2",
   "metadata": {},
   "source": [
    "dataframe shape"
   ]
  },
  {
   "cell_type": "code",
   "execution_count": 8,
   "id": "351f16a6",
   "metadata": {},
   "outputs": [
    {
     "data": {
      "text/plain": [
       "(14400, 13)"
      ]
     },
     "execution_count": 8,
     "metadata": {},
     "output_type": "execute_result"
    }
   ],
   "source": [
    "clients.shape"
   ]
  },
  {
   "cell_type": "markdown",
   "id": "6b44ca22",
   "metadata": {},
   "source": [
    "checking for missing fields"
   ]
  },
  {
   "cell_type": "code",
   "execution_count": 9,
   "id": "ce0c162d",
   "metadata": {},
   "outputs": [
    {
     "data": {
      "text/plain": [
       "ClientID              0\n",
       "Nom                   0\n",
       "Prénom                0\n",
       "CIN                   0\n",
       "DateNaissance         0\n",
       "Sexe                  0\n",
       "SituationFamiliale    0\n",
       "Profession            0\n",
       "RevenusMensuels       0\n",
       "Adresse               0\n",
       "Email                 0\n",
       "Téléphone             0\n",
       "WhatsApp              0\n",
       "dtype: int64"
      ]
     },
     "execution_count": 9,
     "metadata": {},
     "output_type": "execute_result"
    }
   ],
   "source": [
    "clients.isna().sum()"
   ]
  },
  {
   "cell_type": "markdown",
   "id": "a37fdfde",
   "metadata": {},
   "source": [
    "We have no missing values, now let's check for duplicates"
   ]
  },
  {
   "cell_type": "code",
   "execution_count": 10,
   "id": "80d71bf0",
   "metadata": {},
   "outputs": [
    {
     "data": {
      "text/plain": [
       "np.int64(0)"
      ]
     },
     "execution_count": 10,
     "metadata": {},
     "output_type": "execute_result"
    }
   ],
   "source": [
    "clients.duplicated().sum()"
   ]
  },
  {
   "cell_type": "markdown",
   "id": "b699e350",
   "metadata": {},
   "source": [
    "All rows are unique"
   ]
  },
  {
   "cell_type": "markdown",
   "id": "54aeba13",
   "metadata": {},
   "source": [
    "Let's analyse some categorical features"
   ]
  },
  {
   "cell_type": "code",
   "execution_count": 11,
   "id": "af49830e",
   "metadata": {},
   "outputs": [
    {
     "name": "stdout",
     "output_type": "stream",
     "text": [
      "categories in Sexe are: ['F' 'M']\n",
      "categories in SituationFamiliale are: ['Marié' 'Divorcé' 'Veuf' 'Célibataire']\n",
      "categories in Profession are: ['Médecin' 'Artisan' 'Ingénieur' 'Étudiant' 'Professeur' 'Retraité'\n",
      " 'Employé' 'Commerçant']\n"
     ]
    }
   ],
   "source": [
    "categorical = ['Sexe','SituationFamiliale','Profession']\n",
    "for col in categorical:\n",
    "    print(f'categories in {col} are:',clients[col].unique())"
   ]
  },
  {
   "cell_type": "markdown",
   "id": "9ff44b64",
   "metadata": {},
   "source": [
    "Adding age column"
   ]
  },
  {
   "cell_type": "code",
   "execution_count": 12,
   "id": "95ac368d",
   "metadata": {},
   "outputs": [
    {
     "data": {
      "text/html": [
       "<div>\n",
       "<style scoped>\n",
       "    .dataframe tbody tr th:only-of-type {\n",
       "        vertical-align: middle;\n",
       "    }\n",
       "\n",
       "    .dataframe tbody tr th {\n",
       "        vertical-align: top;\n",
       "    }\n",
       "\n",
       "    .dataframe thead th {\n",
       "        text-align: right;\n",
       "    }\n",
       "</style>\n",
       "<table border=\"1\" class=\"dataframe\">\n",
       "  <thead>\n",
       "    <tr style=\"text-align: right;\">\n",
       "      <th></th>\n",
       "      <th>ClientID</th>\n",
       "      <th>Nom</th>\n",
       "      <th>Prénom</th>\n",
       "      <th>CIN</th>\n",
       "      <th>DateNaissance</th>\n",
       "      <th>Sexe</th>\n",
       "      <th>SituationFamiliale</th>\n",
       "      <th>Profession</th>\n",
       "      <th>RevenusMensuels</th>\n",
       "      <th>Adresse</th>\n",
       "      <th>Email</th>\n",
       "      <th>Téléphone</th>\n",
       "      <th>WhatsApp</th>\n",
       "      <th>age</th>\n",
       "    </tr>\n",
       "  </thead>\n",
       "  <tbody>\n",
       "    <tr>\n",
       "      <th>0</th>\n",
       "      <td>1</td>\n",
       "      <td>Ben Ali El Amri</td>\n",
       "      <td>Ahmed Salah</td>\n",
       "      <td>82387512</td>\n",
       "      <td>1981-12-07</td>\n",
       "      <td>F</td>\n",
       "      <td>Marié</td>\n",
       "      <td>Médecin</td>\n",
       "      <td>4041</td>\n",
       "      <td>97 Rue Imbert - Mutuelleville, Sfax</td>\n",
       "      <td>ahmed.salah@gmail.com</td>\n",
       "      <td>21671364363</td>\n",
       "      <td>21673804239</td>\n",
       "      <td>44</td>\n",
       "    </tr>\n",
       "    <tr>\n",
       "      <th>1</th>\n",
       "      <td>2</td>\n",
       "      <td>Ben Ali Ben Hassen</td>\n",
       "      <td>Ahmed Salah</td>\n",
       "      <td>11727315</td>\n",
       "      <td>1998-02-28</td>\n",
       "      <td>M</td>\n",
       "      <td>Marié</td>\n",
       "      <td>Artisan</td>\n",
       "      <td>1813</td>\n",
       "      <td>106 Rue Giraud - Centre-Ville, Mahdia</td>\n",
       "      <td>ahmed.salah@gmail.com</td>\n",
       "      <td>21623740587</td>\n",
       "      <td>21694324932</td>\n",
       "      <td>27</td>\n",
       "    </tr>\n",
       "    <tr>\n",
       "      <th>2</th>\n",
       "      <td>3</td>\n",
       "      <td>Ben Ali Tlili</td>\n",
       "      <td>Ahmed Salah</td>\n",
       "      <td>82121072</td>\n",
       "      <td>1980-04-13</td>\n",
       "      <td>M</td>\n",
       "      <td>Marié</td>\n",
       "      <td>Médecin</td>\n",
       "      <td>2867</td>\n",
       "      <td>164 Rue Guichard - Lac 2, Gafsa</td>\n",
       "      <td>ahmed.salah@gmail.com</td>\n",
       "      <td>21667576259</td>\n",
       "      <td>21689757319</td>\n",
       "      <td>45</td>\n",
       "    </tr>\n",
       "    <tr>\n",
       "      <th>3</th>\n",
       "      <td>4</td>\n",
       "      <td>Ben Ali Belhaj</td>\n",
       "      <td>Ahmed Salah</td>\n",
       "      <td>2858647</td>\n",
       "      <td>2006-01-13</td>\n",
       "      <td>M</td>\n",
       "      <td>Marié</td>\n",
       "      <td>Ingénieur</td>\n",
       "      <td>2994</td>\n",
       "      <td>156 Rue Colas - Centre-Ville, Sfax</td>\n",
       "      <td>ahmed.salah@gmail.com</td>\n",
       "      <td>21638268772</td>\n",
       "      <td>21694185357</td>\n",
       "      <td>19</td>\n",
       "    </tr>\n",
       "    <tr>\n",
       "      <th>4</th>\n",
       "      <td>5</td>\n",
       "      <td>Ben Ali Mzoughi</td>\n",
       "      <td>Ahmed Salah</td>\n",
       "      <td>52452825</td>\n",
       "      <td>1963-01-15</td>\n",
       "      <td>F</td>\n",
       "      <td>Divorcé</td>\n",
       "      <td>Étudiant</td>\n",
       "      <td>5729</td>\n",
       "      <td>46 Rue Weber - Ezzahra, Kasserine</td>\n",
       "      <td>ahmed.salah@gmail.com</td>\n",
       "      <td>21679949500</td>\n",
       "      <td>21691349318</td>\n",
       "      <td>62</td>\n",
       "    </tr>\n",
       "  </tbody>\n",
       "</table>\n",
       "</div>"
      ],
      "text/plain": [
       "   ClientID                 Nom       Prénom       CIN DateNaissance Sexe  \\\n",
       "0         1     Ben Ali El Amri  Ahmed Salah  82387512    1981-12-07    F   \n",
       "1         2  Ben Ali Ben Hassen  Ahmed Salah  11727315    1998-02-28    M   \n",
       "2         3       Ben Ali Tlili  Ahmed Salah  82121072    1980-04-13    M   \n",
       "3         4      Ben Ali Belhaj  Ahmed Salah   2858647    2006-01-13    M   \n",
       "4         5     Ben Ali Mzoughi  Ahmed Salah  52452825    1963-01-15    F   \n",
       "\n",
       "  SituationFamiliale Profession  RevenusMensuels  \\\n",
       "0              Marié    Médecin             4041   \n",
       "1              Marié    Artisan             1813   \n",
       "2              Marié    Médecin             2867   \n",
       "3              Marié  Ingénieur             2994   \n",
       "4            Divorcé   Étudiant             5729   \n",
       "\n",
       "                                 Adresse                  Email    Téléphone  \\\n",
       "0    97 Rue Imbert - Mutuelleville, Sfax  ahmed.salah@gmail.com  21671364363   \n",
       "1  106 Rue Giraud - Centre-Ville, Mahdia  ahmed.salah@gmail.com  21623740587   \n",
       "2        164 Rue Guichard - Lac 2, Gafsa  ahmed.salah@gmail.com  21667576259   \n",
       "3     156 Rue Colas - Centre-Ville, Sfax  ahmed.salah@gmail.com  21638268772   \n",
       "4      46 Rue Weber - Ezzahra, Kasserine  ahmed.salah@gmail.com  21679949500   \n",
       "\n",
       "      WhatsApp  age  \n",
       "0  21673804239   44  \n",
       "1  21694324932   27  \n",
       "2  21689757319   45  \n",
       "3  21694185357   19  \n",
       "4  21691349318   62  "
      ]
     },
     "execution_count": 12,
     "metadata": {},
     "output_type": "execute_result"
    }
   ],
   "source": [
    "clients['age'] = (pd.Timestamp.now().year - clients['DateNaissance'].dt.year)\n",
    "clients.head()"
   ]
  },
  {
   "cell_type": "markdown",
   "id": "8e7993e7",
   "metadata": {},
   "source": [
    "Analysing numerical features"
   ]
  },
  {
   "cell_type": "code",
   "execution_count": 13,
   "id": "a9a8e0c0",
   "metadata": {},
   "outputs": [
    {
     "data": {
      "image/png": "[encoded data removed]",
      "text/plain": [
       "<Figure size 640x480 with 1 Axes>"
      ]
     },
     "metadata": {},
     "output_type": "display_data"
    }
   ],
   "source": [
    "sns.boxplot(x='Profession',y='RevenusMensuels',data=clients)\n",
    "plt.title('Revenus mensuel en fonction de la profession')\n",
    "plt.show()"
   ]
  },
  {
   "cell_type": "code",
   "execution_count": 14,
   "id": "a443a262",
   "metadata": {},
   "outputs": [
    {
     "data": {
      "text/html": [
       "<div>\n",
       "<style scoped>\n",
       "    .dataframe tbody tr th:only-of-type {\n",
       "        vertical-align: middle;\n",
       "    }\n",
       "\n",
       "    .dataframe tbody tr th {\n",
       "        vertical-align: top;\n",
       "    }\n",
       "\n",
       "    .dataframe thead th {\n",
       "        text-align: right;\n",
       "    }\n",
       "</style>\n",
       "<table border=\"1\" class=\"dataframe\">\n",
       "  <thead>\n",
       "    <tr style=\"text-align: right;\">\n",
       "      <th></th>\n",
       "      <th>RevenueMensuel minimale</th>\n",
       "      <th>RevenueMensuel maximale</th>\n",
       "      <th>moyenne</th>\n",
       "    </tr>\n",
       "    <tr>\n",
       "      <th>Profession</th>\n",
       "      <th></th>\n",
       "      <th></th>\n",
       "      <th></th>\n",
       "    </tr>\n",
       "  </thead>\n",
       "  <tbody>\n",
       "    <tr>\n",
       "      <th>Artisan</th>\n",
       "      <td>1003</td>\n",
       "      <td>5995</td>\n",
       "      <td>3547.022309</td>\n",
       "    </tr>\n",
       "    <tr>\n",
       "      <th>Commerçant</th>\n",
       "      <td>1002</td>\n",
       "      <td>5997</td>\n",
       "      <td>3506.813668</td>\n",
       "    </tr>\n",
       "    <tr>\n",
       "      <th>Employé</th>\n",
       "      <td>1000</td>\n",
       "      <td>5995</td>\n",
       "      <td>3492.704954</td>\n",
       "    </tr>\n",
       "    <tr>\n",
       "      <th>Ingénieur</th>\n",
       "      <td>1004</td>\n",
       "      <td>5999</td>\n",
       "      <td>3510.440524</td>\n",
       "    </tr>\n",
       "    <tr>\n",
       "      <th>Médecin</th>\n",
       "      <td>1007</td>\n",
       "      <td>5997</td>\n",
       "      <td>3516.312088</td>\n",
       "    </tr>\n",
       "    <tr>\n",
       "      <th>Professeur</th>\n",
       "      <td>1002</td>\n",
       "      <td>5998</td>\n",
       "      <td>3515.876092</td>\n",
       "    </tr>\n",
       "    <tr>\n",
       "      <th>Retraité</th>\n",
       "      <td>1001</td>\n",
       "      <td>6000</td>\n",
       "      <td>3498.609358</td>\n",
       "    </tr>\n",
       "    <tr>\n",
       "      <th>Étudiant</th>\n",
       "      <td>1000</td>\n",
       "      <td>6000</td>\n",
       "      <td>3540.460519</td>\n",
       "    </tr>\n",
       "  </tbody>\n",
       "</table>\n",
       "</div>"
      ],
      "text/plain": [
       "            RevenueMensuel minimale  RevenueMensuel maximale      moyenne\n",
       "Profession                                                               \n",
       "Artisan                        1003                     5995  3547.022309\n",
       "Commerçant                     1002                     5997  3506.813668\n",
       "Employé                        1000                     5995  3492.704954\n",
       "Ingénieur                      1004                     5999  3510.440524\n",
       "Médecin                        1007                     5997  3516.312088\n",
       "Professeur                     1002                     5998  3515.876092\n",
       "Retraité                       1001                     6000  3498.609358\n",
       "Étudiant                       1000                     6000  3540.460519"
      ]
     },
     "execution_count": 14,
     "metadata": {},
     "output_type": "execute_result"
    }
   ],
   "source": [
    "result = clients.groupby('Profession')['RevenusMensuels'].agg(['min','max','mean'])\n",
    "result = result.rename(columns = {\n",
    "    'min':'RevenueMensuel minimale',\n",
    "    'max':'RevenueMensuel maximale',\n",
    "    'mean':'moyenne'\n",
    "    \n",
    "})\n",
    "result"
   ]
  },
  {
   "cell_type": "markdown",
   "id": "ac343403",
   "metadata": {},
   "source": [
    "Conclusion: monthly revenue is not affected by the client's profession which shows that the simulated data is badly generated."
   ]
  },
  {
   "cell_type": "code",
   "execution_count": 15,
   "id": "6d6b70ad",
   "metadata": {},
   "outputs": [
    {
     "data": {
      "image/png": "[encoded data removed]",
      "text/plain": [
       "<Figure size 640x480 with 1 Axes>"
      ]
     },
     "metadata": {},
     "output_type": "display_data"
    }
   ],
   "source": [
    "sns.boxplot(x='Sexe',y='RevenusMensuels',data=clients)\n",
    "plt.title('Revenus mensuel en fonction du sexe')\n",
    "plt.show()"
   ]
  },
  {
   "cell_type": "code",
   "execution_count": 16,
   "id": "cae2d6dc",
   "metadata": {},
   "outputs": [
    {
     "data": {
      "image/png": "[encoded data removed]",
      "text/plain": [
       "<Figure size 640x480 with 1 Axes>"
      ]
     },
     "metadata": {},
     "output_type": "display_data"
    }
   ],
   "source": [
    "sns.boxplot(x='SituationFamiliale',y='RevenusMensuels',data=clients)\n",
    "plt.title('Revenus mensuel en fonction de la situation familiale')\n",
    "plt.show()"
   ]
  },
  {
   "cell_type": "markdown",
   "id": "4d8dc316",
   "metadata": {},
   "source": [
    "Conclusion: neither sexe nor client's status affect his salary."
   ]
  },
  {
   "cell_type": "markdown",
   "id": "ebe669a6",
   "metadata": {},
   "source": [
    "Let's look at our clients age distribution (age is an important factor for recommending insurance plans)"
   ]
  },
  {
   "cell_type": "code",
   "execution_count": 17,
   "id": "c1fac1e2",
   "metadata": {},
   "outputs": [
    {
     "data": {
      "text/plain": [
       "min    18\n",
       "max    76\n",
       "Name: age, dtype: int32"
      ]
     },
     "execution_count": 17,
     "metadata": {},
     "output_type": "execute_result"
    }
   ],
   "source": [
    "clients['age'].agg(['min','max'])"
   ]
  },
  {
   "cell_type": "code",
   "execution_count": 18,
   "id": "b23efec0",
   "metadata": {},
   "outputs": [
    {
     "data": {
      "image/png": "[encoded data removed]",
      "text/plain": [
       "<Figure size 640x480 with 1 Axes>"
      ]
     },
     "metadata": {},
     "output_type": "display_data"
    }
   ],
   "source": [
    "sns.histplot(data=clients,x='age',bins=15)\n",
    "plt.show()"
   ]
  },
  {
   "cell_type": "code",
   "execution_count": 19,
   "id": "cefffe68",
   "metadata": {},
   "outputs": [],
   "source": [
    "clients.to_pickle('../data/clients.pkl')"
   ]
  }
 ],
 "metadata": {
  "kernelspec": {
   "display_name": "venv",
   "language": "python",
   "name": "python3"
  },
  "language_info": {
   "codemirror_mode": {
    "name": "ipython",
    "version": 3
   },
   "file_extension": ".py",
   "mimetype": "text/x-python",
   "name": "python",
   "nbconvert_exporter": "python",
   "pygments_lexer": "ipython3",
   "version": "3.10.0"
  }
 },
 "nbformat": 4,
 "nbformat_minor": 5
}
